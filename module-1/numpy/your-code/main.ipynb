{
 "cells": [
  {
   "cell_type": "markdown",
   "metadata": {},
   "source": [
    "# Introduction to NumPy\n",
    "\n",
    "\n",
    "#### 1. Import NumPy under the name np."
   ]
  },
  {
   "cell_type": "code",
   "execution_count": 1,
   "metadata": {},
   "outputs": [],
   "source": [
    "# your code here\n",
    "import numpy as np"
   ]
  },
  {
   "cell_type": "markdown",
   "metadata": {},
   "source": [
    "#### 2. Print your NumPy version."
   ]
  },
  {
   "cell_type": "code",
   "execution_count": 2,
   "metadata": {},
   "outputs": [
    {
     "data": {
      "text/plain": [
       "'1.18.1'"
      ]
     },
     "execution_count": 2,
     "metadata": {},
     "output_type": "execute_result"
    }
   ],
   "source": [
    "# your code here\n",
    "np.version.version"
   ]
  },
  {
   "cell_type": "markdown",
   "metadata": {},
   "source": [
    "#### 3. Generate a 2x3x5 3-dimensional array with random values. Assign the array to variable *a*.\n",
    "**Challenge**: there are at least three easy ways that use numpy to generate random arrays. How many ways can you find?"
   ]
  },
  {
   "cell_type": "code",
   "execution_count": 3,
   "metadata": {},
   "outputs": [
    {
     "name": "stdout",
     "output_type": "stream",
     "text": [
      "[[[0.99942322 0.46126566 0.65010593 0.85090811 0.01166286]\n",
      "  [0.747434   0.37511558 0.65916511 0.55771309 0.26323483]\n",
      "  [0.04349796 0.48934009 0.49833201 0.87730761 0.82431527]]\n",
      "\n",
      " [[0.64092765 0.94106537 0.04586001 0.21323748 0.07655222]\n",
      "  [0.02237927 0.19069312 0.04540317 0.63709007 0.05272065]\n",
      "  [0.15404102 0.16460781 0.20898313 0.37226871 0.52626127]]]\n"
     ]
    }
   ],
   "source": [
    "# Method 1\n",
    "a = np.random.random((2,3,5))\n",
    "print(a)"
   ]
  },
  {
   "cell_type": "code",
   "execution_count": 4,
   "metadata": {},
   "outputs": [
    {
     "name": "stdout",
     "output_type": "stream",
     "text": [
      "[[[0.96492557 0.28081493 0.14199121 0.10203027 0.19769356]\n",
      "  [0.0823291  0.31857575 0.53136207 0.69699933 0.11339237]\n",
      "  [0.79406973 0.73051519 0.06838742 0.91280442 0.53173554]]\n",
      "\n",
      " [[0.92576388 0.17069631 0.42456672 0.46306284 0.19961955]\n",
      "  [0.91171362 0.00967527 0.51609554 0.28023485 0.61562084]\n",
      "  [0.47960815 0.12964797 0.47057091 0.06131335 0.22913502]]]\n"
     ]
    }
   ],
   "source": [
    "# Method 2\n",
    "a2 = np.random.rand(2,3,5)\n",
    "print(a2)"
   ]
  },
  {
   "cell_type": "code",
   "execution_count": 5,
   "metadata": {},
   "outputs": [
    {
     "name": "stdout",
     "output_type": "stream",
     "text": [
      "[[[-1.13199521 -0.09156576  1.11714631  0.15292119 -0.29081403]\n",
      "  [ 0.20408934 -1.19898933  1.2850783  -0.20577872 -0.18181758]\n",
      "  [ 1.44932528  2.2157022   0.00538974  1.06612767  0.58732941]]\n",
      "\n",
      " [[-1.1498579  -0.24575249  0.29232034 -0.59109473  0.45957135]\n",
      "  [-1.45401716 -0.26326236 -1.09254973  0.84130017  0.42459922]\n",
      "  [ 0.526451   -0.13404901  1.3701095  -1.05247868  1.15290075]]]\n"
     ]
    }
   ],
   "source": [
    "# Method 3\n",
    "a3 = np.random.randn(2,3,5) \n",
    "print(a3)"
   ]
  },
  {
   "cell_type": "code",
   "execution_count": 6,
   "metadata": {},
   "outputs": [
    {
     "name": "stdout",
     "output_type": "stream",
     "text": [
      "[[[906 749 106 104 718]\n",
      "  [296 846 396 306 263]\n",
      "  [ 62 126 249 158 271]]\n",
      "\n",
      " [[870 660 710 709 473]\n",
      "  [124  78 250 667 680]\n",
      "  [230 895  16 791 337]]]\n"
     ]
    }
   ],
   "source": [
    "# Method 4\n",
    "a4= np.random.randint(0,1000,size=(2,3,5))\n",
    "print(a4)"
   ]
  },
  {
   "cell_type": "code",
   "execution_count": 30,
   "metadata": {},
   "outputs": [
    {
     "name": "stdout",
     "output_type": "stream",
     "text": [
      "[[[0.99942322 0.46126566 0.65010593 0.85090811 0.01166286]\n",
      "  [0.747434   0.37511558 0.65916511 0.55771309 0.26323483]\n",
      "  [0.04349796 0.48934009 0.49833201 0.87730761 0.82431527]]\n",
      "\n",
      " [[0.64092765 0.94106537 0.04586001 0.21323748 0.07655222]\n",
      "  [0.02237927 0.19069312 0.04540317 0.63709007 0.05272065]\n",
      "  [0.15404102 0.16460781 0.20898313 0.37226871 0.52626127]]]\n"
     ]
    }
   ],
   "source": [
    "# Method 5\n",
    "a5= np.empty((2,3,5))\n",
    "print(a5)"
   ]
  },
  {
   "cell_type": "markdown",
   "metadata": {},
   "source": [
    "#### 4. Print *a*.\n"
   ]
  },
  {
   "cell_type": "code",
   "execution_count": 7,
   "metadata": {},
   "outputs": [
    {
     "name": "stdout",
     "output_type": "stream",
     "text": [
      "[[[0.99942322 0.46126566 0.65010593 0.85090811 0.01166286]\n",
      "  [0.747434   0.37511558 0.65916511 0.55771309 0.26323483]\n",
      "  [0.04349796 0.48934009 0.49833201 0.87730761 0.82431527]]\n",
      "\n",
      " [[0.64092765 0.94106537 0.04586001 0.21323748 0.07655222]\n",
      "  [0.02237927 0.19069312 0.04540317 0.63709007 0.05272065]\n",
      "  [0.15404102 0.16460781 0.20898313 0.37226871 0.52626127]]]\n"
     ]
    }
   ],
   "source": [
    "# your code here\n",
    "print(a)"
   ]
  },
  {
   "cell_type": "markdown",
   "metadata": {},
   "source": [
    "#### 5. Create a 5x2x3 3-dimensional array with all values equaling 1. Assign the array to variable *b*."
   ]
  },
  {
   "cell_type": "code",
   "execution_count": 8,
   "metadata": {},
   "outputs": [],
   "source": [
    "# your code here\n",
    "b= np.ones((5,2,3))"
   ]
  },
  {
   "cell_type": "markdown",
   "metadata": {},
   "source": [
    "#### 6. Print *b*.\n"
   ]
  },
  {
   "cell_type": "code",
   "execution_count": 9,
   "metadata": {},
   "outputs": [
    {
     "name": "stdout",
     "output_type": "stream",
     "text": [
      "[[[1. 1. 1.]\n",
      "  [1. 1. 1.]]\n",
      "\n",
      " [[1. 1. 1.]\n",
      "  [1. 1. 1.]]\n",
      "\n",
      " [[1. 1. 1.]\n",
      "  [1. 1. 1.]]\n",
      "\n",
      " [[1. 1. 1.]\n",
      "  [1. 1. 1.]]\n",
      "\n",
      " [[1. 1. 1.]\n",
      "  [1. 1. 1.]]]\n"
     ]
    }
   ],
   "source": [
    "# your code here\n",
    "print(b)"
   ]
  },
  {
   "cell_type": "markdown",
   "metadata": {},
   "source": [
    "#### 7. Do *a* and *b* have the same size? How do you prove that in Python code?"
   ]
  },
  {
   "cell_type": "code",
   "execution_count": 10,
   "metadata": {},
   "outputs": [
    {
     "name": "stdout",
     "output_type": "stream",
     "text": [
      "True\n"
     ]
    }
   ],
   "source": [
    "# your code here\n",
    "print(a.size==b.size)"
   ]
  },
  {
   "cell_type": "markdown",
   "metadata": {},
   "source": [
    "#### 8. Are you able to add *a* and *b*? Why or why not?\n"
   ]
  },
  {
   "cell_type": "code",
   "execution_count": 11,
   "metadata": {},
   "outputs": [
    {
     "ename": "ValueError",
     "evalue": "operands could not be broadcast together with shapes (2,3,5) (5,2,3) ",
     "output_type": "error",
     "traceback": [
      "\u001b[0;31m---------------------------------------------------------------------------\u001b[0m",
      "\u001b[0;31mValueError\u001b[0m                                Traceback (most recent call last)",
      "\u001b[0;32m<ipython-input-11-993773e9fe6a>\u001b[0m in \u001b[0;36m<module>\u001b[0;34m\u001b[0m\n\u001b[1;32m      1\u001b[0m \u001b[0;31m# your answer here\u001b[0m\u001b[0;34m\u001b[0m\u001b[0;34m\u001b[0m\u001b[0;34m\u001b[0m\u001b[0m\n\u001b[0;32m----> 2\u001b[0;31m \u001b[0mnp\u001b[0m\u001b[0;34m.\u001b[0m\u001b[0madd\u001b[0m\u001b[0;34m(\u001b[0m\u001b[0ma\u001b[0m\u001b[0;34m,\u001b[0m\u001b[0mb\u001b[0m\u001b[0;34m)\u001b[0m\u001b[0;34m\u001b[0m\u001b[0;34m\u001b[0m\u001b[0m\n\u001b[0m\u001b[1;32m      3\u001b[0m \u001b[0;31m#no, I don't because they have different shapes a=(2,3,5) and  b=(5,2,3)\u001b[0m\u001b[0;34m\u001b[0m\u001b[0;34m\u001b[0m\u001b[0;34m\u001b[0m\u001b[0m\n",
      "\u001b[0;31mValueError\u001b[0m: operands could not be broadcast together with shapes (2,3,5) (5,2,3) "
     ]
    }
   ],
   "source": [
    "# your answer here\n",
    "np.add(a,b)\n",
    "#no, I don't because they have different shapes a=(2,3,5) and  b=(5,2,3)"
   ]
  },
  {
   "cell_type": "markdown",
   "metadata": {},
   "source": [
    "#### 9. Transpose *b* so that it has the same structure of *a* (i.e. become a 2x3x5 array). Assign the transposed array to variable *c*."
   ]
  },
  {
   "cell_type": "code",
   "execution_count": 52,
   "metadata": {},
   "outputs": [
    {
     "name": "stdout",
     "output_type": "stream",
     "text": [
      "[[[1. 1. 1. 1. 1.]\n",
      "  [1. 1. 1. 1. 1.]]\n",
      "\n",
      " [[1. 1. 1. 1. 1.]\n",
      "  [1. 1. 1. 1. 1.]]\n",
      "\n",
      " [[1. 1. 1. 1. 1.]\n",
      "  [1. 1. 1. 1. 1.]]]\n"
     ]
    },
    {
     "data": {
      "text/plain": [
       "(3, 2, 5)"
      ]
     },
     "execution_count": 52,
     "metadata": {},
     "output_type": "execute_result"
    }
   ],
   "source": [
    "# your code here\n",
    "c=np.reshape(b,(2,3,5))\n",
    "print(c)\n",
    "c.shape"
   ]
  },
  {
   "cell_type": "markdown",
   "metadata": {},
   "source": [
    "#### 10. Try to add *a* and *c*. Now it should work. Assign the sum to variable *d*. But why does it work now?"
   ]
  },
  {
   "cell_type": "code",
   "execution_count": 16,
   "metadata": {},
   "outputs": [
    {
     "name": "stdout",
     "output_type": "stream",
     "text": [
      "[[[1.99942322 1.46126566 1.65010593 1.85090811 1.01166286]\n",
      "  [1.747434   1.37511558 1.65916511 1.55771309 1.26323483]\n",
      "  [1.04349796 1.48934009 1.49833201 1.87730761 1.82431527]]\n",
      "\n",
      " [[1.64092765 1.94106537 1.04586001 1.21323748 1.07655222]\n",
      "  [1.02237927 1.19069312 1.04540317 1.63709007 1.05272065]\n",
      "  [1.15404102 1.16460781 1.20898313 1.37226871 1.52626127]]]\n"
     ]
    }
   ],
   "source": [
    "# your code/answer here\n",
    "d=np.add(a,c)\n",
    "d=a+c\n",
    "print(d)\n",
    "\n",
    "#you can add now because 'a' and 'c' have the same shape.\n"
   ]
  },
  {
   "cell_type": "markdown",
   "metadata": {},
   "source": [
    "#### 11. Print *a* and *d*. Notice the difference and relation of the two array in terms of the values? Explain."
   ]
  },
  {
   "cell_type": "code",
   "execution_count": 17,
   "metadata": {},
   "outputs": [
    {
     "name": "stdout",
     "output_type": "stream",
     "text": [
      "[[[0.99942322 0.46126566 0.65010593 0.85090811 0.01166286]\n",
      "  [0.747434   0.37511558 0.65916511 0.55771309 0.26323483]\n",
      "  [0.04349796 0.48934009 0.49833201 0.87730761 0.82431527]]\n",
      "\n",
      " [[0.64092765 0.94106537 0.04586001 0.21323748 0.07655222]\n",
      "  [0.02237927 0.19069312 0.04540317 0.63709007 0.05272065]\n",
      "  [0.15404102 0.16460781 0.20898313 0.37226871 0.52626127]]]\n",
      "[[[1.99942322 1.46126566 1.65010593 1.85090811 1.01166286]\n",
      "  [1.747434   1.37511558 1.65916511 1.55771309 1.26323483]\n",
      "  [1.04349796 1.48934009 1.49833201 1.87730761 1.82431527]]\n",
      "\n",
      " [[1.64092765 1.94106537 1.04586001 1.21323748 1.07655222]\n",
      "  [1.02237927 1.19069312 1.04540317 1.63709007 1.05272065]\n",
      "  [1.15404102 1.16460781 1.20898313 1.37226871 1.52626127]]]\n"
     ]
    }
   ],
   "source": [
    "# your code/answer here\n",
    "print(a)\n",
    "print(d)\n",
    "\n",
    "# 'd' is array 'a' + 1."
   ]
  },
  {
   "cell_type": "markdown",
   "metadata": {},
   "source": [
    "#### 12. Multiply *a* and *c*. Assign the result to *e*."
   ]
  },
  {
   "cell_type": "code",
   "execution_count": 18,
   "metadata": {},
   "outputs": [
    {
     "name": "stdout",
     "output_type": "stream",
     "text": [
      "[[[0.99942322 0.46126566 0.65010593 0.85090811 0.01166286]\n",
      "  [0.747434   0.37511558 0.65916511 0.55771309 0.26323483]\n",
      "  [0.04349796 0.48934009 0.49833201 0.87730761 0.82431527]]\n",
      "\n",
      " [[0.64092765 0.94106537 0.04586001 0.21323748 0.07655222]\n",
      "  [0.02237927 0.19069312 0.04540317 0.63709007 0.05272065]\n",
      "  [0.15404102 0.16460781 0.20898313 0.37226871 0.52626127]]]\n"
     ]
    }
   ],
   "source": [
    "# your code here\n",
    "e= a*c\n",
    "e=np.multiply(a,c)\n",
    "print(e)"
   ]
  },
  {
   "cell_type": "markdown",
   "metadata": {},
   "source": [
    "#### 13. Does *e* equal to *a*? Why or why not?\n"
   ]
  },
  {
   "cell_type": "code",
   "execution_count": 20,
   "metadata": {},
   "outputs": [
    {
     "name": "stdout",
     "output_type": "stream",
     "text": [
      "[[[ True  True  True  True  True]\n",
      "  [ True  True  True  True  True]\n",
      "  [ True  True  True  True  True]]\n",
      "\n",
      " [[ True  True  True  True  True]\n",
      "  [ True  True  True  True  True]\n",
      "  [ True  True  True  True  True]]]\n"
     ]
    }
   ],
   "source": [
    "# your code/answer here\n",
    "print(e==a)\n",
    "\n",
    "# 'e' is equal to 'a' because 'e' is the multiplication of 'a' and 'c' and all the values in 'c' are 1."
   ]
  },
  {
   "cell_type": "markdown",
   "metadata": {},
   "source": [
    "#### 14. Identify the max, min, and mean values in *d*. Assign those values to variables *d_max*, *d_min* and *d_mean*."
   ]
  },
  {
   "cell_type": "code",
   "execution_count": 21,
   "metadata": {},
   "outputs": [
    {
     "name": "stdout",
     "output_type": "stream",
     "text": [
      "1.99942321976588\n",
      "1.0116628595208246\n",
      "1.4200304093900067\n"
     ]
    }
   ],
   "source": [
    "# your code here\n",
    "d_max=np.max(d)\n",
    "d_min=np.min(d)\n",
    "d_mean=np.mean(d)\n",
    "print(d_max)\n",
    "print(d_min)\n",
    "print(d_mean)\n"
   ]
  },
  {
   "cell_type": "markdown",
   "metadata": {},
   "source": [
    "#### 15. Now we want to label the values in *d*. First create an empty array *f* with the same shape (i.e. 2x3x5) as *d* using `np.empty`.\n"
   ]
  },
  {
   "cell_type": "code",
   "execution_count": 29,
   "metadata": {},
   "outputs": [
    {
     "name": "stdout",
     "output_type": "stream",
     "text": [
      "[[[0.99942322 0.46126566 0.65010593 0.85090811 0.01166286]\n",
      "  [0.747434   0.37511558 0.65916511 0.55771309 0.26323483]\n",
      "  [0.04349796 0.48934009 0.49833201 0.87730761 0.82431527]]\n",
      "\n",
      " [[0.64092765 0.94106537 0.04586001 0.21323748 0.07655222]\n",
      "  [0.02237927 0.19069312 0.04540317 0.63709007 0.05272065]\n",
      "  [0.15404102 0.16460781 0.20898313 0.37226871 0.52626127]]]\n"
     ]
    }
   ],
   "source": [
    "# your code here\n",
    "f= np.empty((2,3,5))\n",
    "print(f)"
   ]
  },
  {
   "cell_type": "markdown",
   "metadata": {},
   "source": [
    "#### 16. Populate the values in *f*. \n",
    "\n",
    "For each value in *d*, if it's larger than *d_min* but smaller than *d_mean*, assign 25 to the corresponding value in *f*. If a value in *d* is larger than *d_mean* but smaller than *d_max*, assign 75 to the corresponding value in *f*. If a value equals to *d_mean*, assign 50 to the corresponding value in *f*. Assign 0 to the corresponding value(s) in *f* for *d_min* in *d*. Assign 100 to the corresponding value(s) in *f* for *d_max* in *d*. In the end, f should have only the following values: 0, 25, 50, 75, and 100.\n",
    "\n",
    "**Note**: you don't have to use Numpy in this question."
   ]
  },
  {
   "cell_type": "code",
   "execution_count": 47,
   "metadata": {},
   "outputs": [
    {
     "name": "stdout",
     "output_type": "stream",
     "text": [
      "[[[100  75  75  75   0]\n",
      "  [ 75  25  75  75  25]\n",
      "  [ 25  75  75  75  75]]\n",
      "\n",
      " [[ 75  75  25  25  25]\n",
      "  [ 25  25  25  75  25]\n",
      "  [ 25  25  25  25  75]]]\n"
     ]
    }
   ],
   "source": [
    "# your code here\n",
    "f=[]\n",
    "for x in d:\n",
    "    for y in x:\n",
    "        for z in y:\n",
    "            if z==d_min:\n",
    "                f.append(0)\n",
    "            elif d_min<z<d_mean:\n",
    "                f.append(25)\n",
    "            elif z==d_mean:\n",
    "                f.append(50)\n",
    "            elif d_mean<z<d_max:\n",
    "                f.append(75)\n",
    "            else:\n",
    "                f.append(100)\n",
    "\n",
    "f=np.reshape(f,(2,3,5))                \n",
    "           \n"
   ]
  },
  {
   "cell_type": "markdown",
   "metadata": {},
   "source": [
    "#### 17. Print *d* and *f*. Do you have your expected *f*?\n",
    "For instance, if your *d* is:\n",
    "```python\n",
    "[[[1.85836099, 1.67064465, 1.62576044, 1.40243961, 1.88454931],\n",
    "[1.75354326, 1.69403643, 1.36729252, 1.61415071, 1.12104981],\n",
    "[1.72201435, 1.1862918 , 1.87078449, 1.7726778 , 1.88180042]],\n",
    "[[1.44747908, 1.31673383, 1.02000951, 1.52218947, 1.97066381],\n",
    "[1.79129243, 1.74983003, 1.96028037, 1.85166831, 1.65450881],\n",
    "[1.18068344, 1.9587381 , 1.00656599, 1.93402165, 1.73514584]]]\n",
    "```\n",
    "Your *f* should be:\n",
    "```python\n",
    "[[[ 75.,  75.,  75.,  25.,  75.],\n",
    "[ 75.,  75.,  25.,  25.,  25.],\n",
    "[ 75.,  25.,  75.,  75.,  75.]],\n",
    "[[ 25.,  25.,  25.,  25., 100.],\n",
    "[ 75.,  75.,  75.,  75.,  75.],\n",
    "[ 25.,  75.,   0.,  75.,  75.]]]\n",
    "```"
   ]
  },
  {
   "cell_type": "code",
   "execution_count": 48,
   "metadata": {},
   "outputs": [
    {
     "name": "stdout",
     "output_type": "stream",
     "text": [
      "[[[1.99942322 1.46126566 1.65010593 1.85090811 1.01166286]\n",
      "  [1.747434   1.37511558 1.65916511 1.55771309 1.26323483]\n",
      "  [1.04349796 1.48934009 1.49833201 1.87730761 1.82431527]]\n",
      "\n",
      " [[1.64092765 1.94106537 1.04586001 1.21323748 1.07655222]\n",
      "  [1.02237927 1.19069312 1.04540317 1.63709007 1.05272065]\n",
      "  [1.15404102 1.16460781 1.20898313 1.37226871 1.52626127]]]\n",
      "[[[100  75  75  75   0]\n",
      "  [ 75  25  75  75  25]\n",
      "  [ 25  75  75  75  75]]\n",
      "\n",
      " [[ 75  75  25  25  25]\n",
      "  [ 25  25  25  75  25]\n",
      "  [ 25  25  25  25  75]]]\n"
     ]
    }
   ],
   "source": [
    "# your code here\n",
    "print(d)\n",
    "print(f)"
   ]
  },
  {
   "cell_type": "markdown",
   "metadata": {},
   "source": [
    "#### 18. Bonus question: instead of using numbers (i.e. 0, 25, 50, 75, and 100), use string values  (\"A\", \"B\", \"C\", \"D\", and \"E\") to label the array elements. For the example above, the expected result is:\n",
    "\n",
    "```python\n",
    "[[[ 'D',  'D',  'D',  'B',  'D'],\n",
    "[ 'D',  'D',  'B',  'B',  'B'],\n",
    "[ 'D',  'B',  'D',  'D',  'D']],\n",
    "[[ 'B',  'B',  'B',  'B',  'E'],\n",
    "[ 'D',  'D',  'D',  'D',  'D'],\n",
    "[ 'B',  'D',   'A',  'D', 'D']]]\n",
    "```\n",
    "**Note**: you don't have to use Numpy in this question."
   ]
  },
  {
   "cell_type": "code",
   "execution_count": 50,
   "metadata": {},
   "outputs": [
    {
     "name": "stdout",
     "output_type": "stream",
     "text": [
      "[[['E' 'D' 'D' 'D' 'A']\n",
      "  ['D' 'B' 'D' 'D' 'B']\n",
      "  ['B' 'D' 'D' 'D' 'D']]\n",
      "\n",
      " [['D' 'D' 'B' 'B' 'B']\n",
      "  ['B' 'B' 'B' 'D' 'B']\n",
      "  ['B' 'B' 'B' 'B' 'D']]]\n"
     ]
    }
   ],
   "source": [
    "# your code here\n",
    "f=[]\n",
    "for x in d:\n",
    "    for y in x:\n",
    "        for z in y:\n",
    "            if z==d_min:\n",
    "                f.append('A')\n",
    "            elif d_min<z<d_mean:\n",
    "                f.append('B')\n",
    "            elif z==d_mean:\n",
    "                f.append('C')\n",
    "            elif d_mean<z<d_max:\n",
    "                f.append('D')\n",
    "            else:\n",
    "                f.append('E')\n",
    "\n",
    "f=np.reshape(f,(2,3,5)) \n",
    "print(f)"
   ]
  }
 ],
 "metadata": {
  "kernelspec": {
   "display_name": "Python [conda env:iron]",
   "language": "python",
   "name": "conda-env-iron-py"
  },
  "language_info": {
   "codemirror_mode": {
    "name": "ipython",
    "version": 3
   },
   "file_extension": ".py",
   "mimetype": "text/x-python",
   "name": "python",
   "nbconvert_exporter": "python",
   "pygments_lexer": "ipython3",
   "version": "3.7.7"
  }
 },
 "nbformat": 4,
 "nbformat_minor": 4
}
