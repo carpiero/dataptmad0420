{
 "cells": [
  {
   "cell_type": "markdown",
   "metadata": {},
   "source": [
    "# Challenge 1 - Tic Tac Toe\n",
    "\n",
    "In this lab you will perform deep learning analysis on a dataset of playing [Tic Tac Toe](https://en.wikipedia.org/wiki/Tic-tac-toe).\n",
    "\n",
    "There are 9 grids in Tic Tac Toe that are coded as the following picture shows:\n",
    "\n",
    "![Tic Tac Toe Grids](tttboard.jpg)\n",
    "\n",
    "In the first 9 columns of the dataset you can find which marks (`x` or `o`) exist in the grids. If there is no mark in a certain grid, it is labeled as `b`. The last column is `class` which tells you whether Player X (who always moves first in Tic Tac Toe) wins in this configuration. Note that when `class` has the value `False`, it means either Player O wins the game or it ends up as a draw."
   ]
  },
  {
   "cell_type": "markdown",
   "metadata": {},
   "source": [
    "Follow the steps suggested below to conduct a neural network analysis using Tensorflow and Keras. You will build a deep learning model to predict whether Player X wins the game or not.\n",
    "\n",
    "## Step 1: Data Engineering\n",
    "\n",
    "This dataset is almost in the ready-to-use state so you do not need to worry about missing values and so on. Still, some simple data engineering is needed.\n",
    "\n",
    "1. Read `tic-tac-toe.csv` into a dataframe.\n",
    "1. Inspect the dataset. Determine if the dataset is reliable by eyeballing the data.\n",
    "1. Convert the categorical values to numeric in all columns.\n",
    "1. Separate the inputs and output.\n",
    "1. Normalize the input data."
   ]
  },
  {
   "cell_type": "code",
   "execution_count": 672,
   "metadata": {},
   "outputs": [
    {
     "data": {
      "text/html": [
       "<div>\n",
       "<style scoped>\n",
       "    .dataframe tbody tr th:only-of-type {\n",
       "        vertical-align: middle;\n",
       "    }\n",
       "\n",
       "    .dataframe tbody tr th {\n",
       "        vertical-align: top;\n",
       "    }\n",
       "\n",
       "    .dataframe thead th {\n",
       "        text-align: right;\n",
       "    }\n",
       "</style>\n",
       "<table border=\"1\" class=\"dataframe\">\n",
       "  <thead>\n",
       "    <tr style=\"text-align: right;\">\n",
       "      <th></th>\n",
       "      <th>TL</th>\n",
       "      <th>TM</th>\n",
       "      <th>TR</th>\n",
       "      <th>ML</th>\n",
       "      <th>MM</th>\n",
       "      <th>MR</th>\n",
       "      <th>BL</th>\n",
       "      <th>BM</th>\n",
       "      <th>BR</th>\n",
       "    </tr>\n",
       "  </thead>\n",
       "  <tbody>\n",
       "    <tr>\n",
       "      <th>0</th>\n",
       "      <td>1.003223</td>\n",
       "      <td>1.084953</td>\n",
       "      <td>1.003223</td>\n",
       "      <td>1.084953</td>\n",
       "      <td>-0.420077</td>\n",
       "      <td>-0.167318</td>\n",
       "      <td>1.003223</td>\n",
       "      <td>-0.167318</td>\n",
       "      <td>-0.286827</td>\n",
       "    </tr>\n",
       "    <tr>\n",
       "      <th>1</th>\n",
       "      <td>1.003223</td>\n",
       "      <td>1.084953</td>\n",
       "      <td>1.003223</td>\n",
       "      <td>1.084953</td>\n",
       "      <td>-0.420077</td>\n",
       "      <td>-0.167318</td>\n",
       "      <td>-0.286827</td>\n",
       "      <td>1.084953</td>\n",
       "      <td>-0.286827</td>\n",
       "    </tr>\n",
       "    <tr>\n",
       "      <th>2</th>\n",
       "      <td>1.003223</td>\n",
       "      <td>1.084953</td>\n",
       "      <td>1.003223</td>\n",
       "      <td>1.084953</td>\n",
       "      <td>-0.420077</td>\n",
       "      <td>-0.167318</td>\n",
       "      <td>-0.286827</td>\n",
       "      <td>-0.167318</td>\n",
       "      <td>1.003223</td>\n",
       "    </tr>\n",
       "    <tr>\n",
       "      <th>3</th>\n",
       "      <td>1.003223</td>\n",
       "      <td>1.084953</td>\n",
       "      <td>1.003223</td>\n",
       "      <td>1.084953</td>\n",
       "      <td>-0.420077</td>\n",
       "      <td>-0.167318</td>\n",
       "      <td>-0.286827</td>\n",
       "      <td>-1.419590</td>\n",
       "      <td>-1.576877</td>\n",
       "    </tr>\n",
       "    <tr>\n",
       "      <th>4</th>\n",
       "      <td>1.003223</td>\n",
       "      <td>1.084953</td>\n",
       "      <td>1.003223</td>\n",
       "      <td>1.084953</td>\n",
       "      <td>-0.420077</td>\n",
       "      <td>-0.167318</td>\n",
       "      <td>-1.576877</td>\n",
       "      <td>-0.167318</td>\n",
       "      <td>-1.576877</td>\n",
       "    </tr>\n",
       "    <tr>\n",
       "      <th>...</th>\n",
       "      <td>...</td>\n",
       "      <td>...</td>\n",
       "      <td>...</td>\n",
       "      <td>...</td>\n",
       "      <td>...</td>\n",
       "      <td>...</td>\n",
       "      <td>...</td>\n",
       "      <td>...</td>\n",
       "      <td>...</td>\n",
       "    </tr>\n",
       "    <tr>\n",
       "      <th>953</th>\n",
       "      <td>-0.286827</td>\n",
       "      <td>1.084953</td>\n",
       "      <td>1.003223</td>\n",
       "      <td>1.084953</td>\n",
       "      <td>-0.420077</td>\n",
       "      <td>-0.167318</td>\n",
       "      <td>-0.286827</td>\n",
       "      <td>1.084953</td>\n",
       "      <td>1.003223</td>\n",
       "    </tr>\n",
       "    <tr>\n",
       "      <th>954</th>\n",
       "      <td>-0.286827</td>\n",
       "      <td>1.084953</td>\n",
       "      <td>-0.286827</td>\n",
       "      <td>1.084953</td>\n",
       "      <td>0.930371</td>\n",
       "      <td>-0.167318</td>\n",
       "      <td>1.003223</td>\n",
       "      <td>-0.167318</td>\n",
       "      <td>1.003223</td>\n",
       "    </tr>\n",
       "    <tr>\n",
       "      <th>955</th>\n",
       "      <td>-0.286827</td>\n",
       "      <td>1.084953</td>\n",
       "      <td>-0.286827</td>\n",
       "      <td>1.084953</td>\n",
       "      <td>-0.420077</td>\n",
       "      <td>1.084953</td>\n",
       "      <td>1.003223</td>\n",
       "      <td>-0.167318</td>\n",
       "      <td>1.003223</td>\n",
       "    </tr>\n",
       "    <tr>\n",
       "      <th>956</th>\n",
       "      <td>-0.286827</td>\n",
       "      <td>1.084953</td>\n",
       "      <td>-0.286827</td>\n",
       "      <td>-0.167318</td>\n",
       "      <td>0.930371</td>\n",
       "      <td>1.084953</td>\n",
       "      <td>1.003223</td>\n",
       "      <td>-0.167318</td>\n",
       "      <td>1.003223</td>\n",
       "    </tr>\n",
       "    <tr>\n",
       "      <th>957</th>\n",
       "      <td>-0.286827</td>\n",
       "      <td>-0.167318</td>\n",
       "      <td>1.003223</td>\n",
       "      <td>1.084953</td>\n",
       "      <td>0.930371</td>\n",
       "      <td>-0.167318</td>\n",
       "      <td>-0.286827</td>\n",
       "      <td>1.084953</td>\n",
       "      <td>1.003223</td>\n",
       "    </tr>\n",
       "  </tbody>\n",
       "</table>\n",
       "<p>958 rows × 9 columns</p>\n",
       "</div>"
      ],
      "text/plain": [
       "           TL        TM        TR        ML        MM        MR        BL  \\\n",
       "0    1.003223  1.084953  1.003223  1.084953 -0.420077 -0.167318  1.003223   \n",
       "1    1.003223  1.084953  1.003223  1.084953 -0.420077 -0.167318 -0.286827   \n",
       "2    1.003223  1.084953  1.003223  1.084953 -0.420077 -0.167318 -0.286827   \n",
       "3    1.003223  1.084953  1.003223  1.084953 -0.420077 -0.167318 -0.286827   \n",
       "4    1.003223  1.084953  1.003223  1.084953 -0.420077 -0.167318 -1.576877   \n",
       "..        ...       ...       ...       ...       ...       ...       ...   \n",
       "953 -0.286827  1.084953  1.003223  1.084953 -0.420077 -0.167318 -0.286827   \n",
       "954 -0.286827  1.084953 -0.286827  1.084953  0.930371 -0.167318  1.003223   \n",
       "955 -0.286827  1.084953 -0.286827  1.084953 -0.420077  1.084953  1.003223   \n",
       "956 -0.286827  1.084953 -0.286827 -0.167318  0.930371  1.084953  1.003223   \n",
       "957 -0.286827 -0.167318  1.003223  1.084953  0.930371 -0.167318 -0.286827   \n",
       "\n",
       "           BM        BR  \n",
       "0   -0.167318 -0.286827  \n",
       "1    1.084953 -0.286827  \n",
       "2   -0.167318  1.003223  \n",
       "3   -1.419590 -1.576877  \n",
       "4   -0.167318 -1.576877  \n",
       "..        ...       ...  \n",
       "953  1.084953  1.003223  \n",
       "954 -0.167318  1.003223  \n",
       "955 -0.167318  1.003223  \n",
       "956 -0.167318  1.003223  \n",
       "957  1.084953  1.003223  \n",
       "\n",
       "[958 rows x 9 columns]"
      ]
     },
     "metadata": {},
     "output_type": "display_data"
    },
    {
     "data": {
      "text/html": [
       "<div>\n",
       "<style scoped>\n",
       "    .dataframe tbody tr th:only-of-type {\n",
       "        vertical-align: middle;\n",
       "    }\n",
       "\n",
       "    .dataframe tbody tr th {\n",
       "        vertical-align: top;\n",
       "    }\n",
       "\n",
       "    .dataframe thead th {\n",
       "        text-align: right;\n",
       "    }\n",
       "</style>\n",
       "<table border=\"1\" class=\"dataframe\">\n",
       "  <thead>\n",
       "    <tr style=\"text-align: right;\">\n",
       "      <th></th>\n",
       "      <th>class</th>\n",
       "    </tr>\n",
       "  </thead>\n",
       "  <tbody>\n",
       "    <tr>\n",
       "      <th>0</th>\n",
       "      <td>1</td>\n",
       "    </tr>\n",
       "    <tr>\n",
       "      <th>1</th>\n",
       "      <td>1</td>\n",
       "    </tr>\n",
       "    <tr>\n",
       "      <th>2</th>\n",
       "      <td>1</td>\n",
       "    </tr>\n",
       "    <tr>\n",
       "      <th>3</th>\n",
       "      <td>1</td>\n",
       "    </tr>\n",
       "    <tr>\n",
       "      <th>4</th>\n",
       "      <td>1</td>\n",
       "    </tr>\n",
       "    <tr>\n",
       "      <th>...</th>\n",
       "      <td>...</td>\n",
       "    </tr>\n",
       "    <tr>\n",
       "      <th>953</th>\n",
       "      <td>0</td>\n",
       "    </tr>\n",
       "    <tr>\n",
       "      <th>954</th>\n",
       "      <td>0</td>\n",
       "    </tr>\n",
       "    <tr>\n",
       "      <th>955</th>\n",
       "      <td>0</td>\n",
       "    </tr>\n",
       "    <tr>\n",
       "      <th>956</th>\n",
       "      <td>0</td>\n",
       "    </tr>\n",
       "    <tr>\n",
       "      <th>957</th>\n",
       "      <td>0</td>\n",
       "    </tr>\n",
       "  </tbody>\n",
       "</table>\n",
       "<p>958 rows × 1 columns</p>\n",
       "</div>"
      ],
      "text/plain": [
       "     class\n",
       "0        1\n",
       "1        1\n",
       "2        1\n",
       "3        1\n",
       "4        1\n",
       "..     ...\n",
       "953      0\n",
       "954      0\n",
       "955      0\n",
       "956      0\n",
       "957      0\n",
       "\n",
       "[958 rows x 1 columns]"
      ]
     },
     "execution_count": 672,
     "metadata": {},
     "output_type": "execute_result"
    }
   ],
   "source": [
    "# your code heree\n",
    "import pandas as pd\n",
    "from sklearn.preprocessing import OneHotEncoder, OrdinalEncoder, StandardScaler, LabelEncoder\n",
    "from sklearn.model_selection import train_test_split\n",
    "import numpy as np\n",
    "\n",
    "df= pd.read_csv('./tic-tac-toe.csv')\n",
    "\n",
    "encoder =  LabelEncoder()\n",
    "df_encoded = df.apply(encoder.fit_transform)\n",
    "\n",
    "\n",
    "\n",
    "df_input= df_encoded.iloc[:,[x for x in range(0,len(df_encoded.columns)-1)]]\n",
    "df_output= df_encoded.iloc[:,[len(df_encoded.columns)-1]]\n",
    "\n",
    "rs = StandardScaler() \n",
    "df_input_normalize = pd.DataFrame(rs.fit_transform(df_input), columns= df_input.columns)\n",
    "\n",
    "display(df_input_normalize)\n",
    "df_output\n",
    "\n"
   ]
  },
  {
   "cell_type": "markdown",
   "metadata": {},
   "source": [
    "## Step 2: Build Neural Network\n",
    "\n",
    "To build the neural network, you can refer to your own codes you wrote while following the [Deep Learning with Python, TensorFlow, and Keras tutorial](https://www.youtube.com/watch?v=wQ8BIBpya2k) in the lesson. It's pretty similar to what you will be doing in this lab.\n",
    "\n",
    "1. Split the training and test data.\n",
    "1. Create a `Sequential` model.\n",
    "1. Add several layers to your model. Make sure you use ReLU as the activation function for the middle layers. Use Softmax for the output layer because each output has a single lable and all the label probabilities add up to 1.\n",
    "1. Compile the model using `adam` as the optimizer and `sparse_categorical_crossentropy` as the loss function. For metrics, use `accuracy` for now.\n",
    "1. Fit the training data.\n",
    "1. Evaluate your neural network model with the test data.\n",
    "1. Save your model as `tic-tac-toe.model`."
   ]
  },
  {
   "cell_type": "code",
   "execution_count": 673,
   "metadata": {},
   "outputs": [
    {
     "name": "stdout",
     "output_type": "stream",
     "text": [
      "(718, 9)\n",
      "(240, 9)\n",
      "(718, 1)\n",
      "(240, 1)\n"
     ]
    }
   ],
   "source": [
    "# your code here\n",
    "import tensorflow as tf\n",
    "import matplotlib.pyplot as plt\n",
    "\n",
    "X_train, X_test, Y_train, Y_test = train_test_split(df_input_normalize, df_output, random_state=42)\n",
    "\n",
    "# X_train = X_train.reshape(-1, 9, 1)\n",
    "# Y_train =  Y_train.reshape(-1, 9, 1)\n",
    "\n",
    "print(X_train.shape)\n",
    "print(X_test.shape)\n",
    "print(Y_train.shape)\n",
    "print(Y_test.shape)\n",
    "\n",
    "\n",
    "model = tf.keras.Sequential([\n",
    "    tf.keras.layers.Flatten(),\n",
    "    tf.keras.layers.Dense(128,activation='relu'),\n",
    "    tf.keras.layers.Dense(128,activation='relu'),\n",
    "    tf.keras.layers.Dense(2,activation='softmax')\n",
    "])\n",
    "\n",
    "\n",
    "\n",
    "model.compile(optimizer='adam', \n",
    "              loss=tf.keras.losses.SparseCategoricalCrossentropy(from_logits=True), \n",
    "              metrics=['accuracy'])\n",
    "\n"
   ]
  },
  {
   "cell_type": "code",
   "execution_count": 674,
   "metadata": {},
   "outputs": [
    {
     "name": "stdout",
     "output_type": "stream",
     "text": [
      "Epoch 1/4\n",
      "WARNING:tensorflow:Layer flatten_81 is casting an input tensor from dtype float64 to the layer's dtype of float32, which is new behavior in TensorFlow 2.  The layer has dtype float32 because its dtype defaults to floatx.\n",
      "\n",
      "If you intended to run this layer in float32, you can safely ignore this warning. If in doubt, this warning is likely only an issue if you are porting a TensorFlow 1.X model to TensorFlow 2.\n",
      "\n",
      "To change all layers to have dtype float64 by default, call `tf.keras.backend.set_floatx('float64')`. To change just this layer, pass dtype='float64' to the layer constructor. If you are the author of this layer, you can disable autocasting by passing autocast=False to the base Layer constructor.\n",
      "\n",
      "12/12 [==============================] - 0s 16ms/step - loss: 0.6614 - accuracy: 0.6100 - val_loss: 0.6105 - val_accuracy: 0.6875\n",
      "Epoch 2/4\n",
      "12/12 [==============================] - 0s 4ms/step - loss: 0.6245 - accuracy: 0.6448 - val_loss: 0.5965 - val_accuracy: 0.6958\n",
      "Epoch 3/4\n",
      "12/12 [==============================] - 0s 4ms/step - loss: 0.5992 - accuracy: 0.6992 - val_loss: 0.5958 - val_accuracy: 0.7417\n",
      "Epoch 4/4\n",
      "12/12 [==============================] - 0s 6ms/step - loss: 0.5821 - accuracy: 0.7465 - val_loss: 0.5802 - val_accuracy: 0.7500\n"
     ]
    }
   ],
   "source": [
    "history = model.fit(X_train, \n",
    "                    Y_train, \n",
    "                    batch_size=64, \n",
    "                    epochs=4, \n",
    "                    validation_data=(X_test, Y_test))"
   ]
  },
  {
   "cell_type": "code",
   "execution_count": 675,
   "metadata": {},
   "outputs": [
    {
     "name": "stdout",
     "output_type": "stream",
     "text": [
      "8/8 [==============================] - 0s 1ms/step - loss: 0.5802 - accuracy: 0.7500\n",
      "0.75 0.5802055597305298\n"
     ]
    }
   ],
   "source": [
    "test_loss, test_accuracy = model.evaluate(X_test, Y_test)\n",
    "print(test_accuracy, test_loss)"
   ]
  },
  {
   "cell_type": "code",
   "execution_count": 676,
   "metadata": {},
   "outputs": [
    {
     "name": "stdout",
     "output_type": "stream",
     "text": [
      "INFO:tensorflow:Assets written to: tic-tac-toe.model/assets\n"
     ]
    }
   ],
   "source": [
    "model.save('tic-tac-toe.model')"
   ]
  },
  {
   "cell_type": "markdown",
   "metadata": {},
   "source": [
    "## Step 3: Make Predictions\n",
    "\n",
    "Now load your saved model and use it to make predictions on a few random rows in the test dataset. Check if the predictions are correct."
   ]
  },
  {
   "cell_type": "code",
   "execution_count": 677,
   "metadata": {},
   "outputs": [],
   "source": [
    "# your code here\n",
    "new_model= tf.keras.models.load_model('tic-tac-toe.model')\n",
    "\n",
    "predictions = new_model.predict(X_test)"
   ]
  },
  {
   "cell_type": "code",
   "execution_count": 678,
   "metadata": {},
   "outputs": [],
   "source": [
    "\n",
    "results_pred=[np.argmax(predictions[x]) for x in range(X_test.shape[0]) ]"
   ]
  },
  {
   "cell_type": "code",
   "execution_count": 679,
   "metadata": {},
   "outputs": [],
   "source": [
    "df=Y_test"
   ]
  },
  {
   "cell_type": "code",
   "execution_count": 680,
   "metadata": {},
   "outputs": [
    {
     "name": "stdout",
     "output_type": "stream",
     "text": [
      "(718, 9)\n",
      "(240, 9)\n",
      "(718, 1)\n",
      "(240, 1)\n"
     ]
    }
   ],
   "source": [
    "print(X_train.shape)\n",
    "print(X_test.shape)\n",
    "print(Y_train.shape)\n",
    "print(Y_test.shape)"
   ]
  },
  {
   "cell_type": "code",
   "execution_count": 681,
   "metadata": {},
   "outputs": [
    {
     "name": "stderr",
     "output_type": "stream",
     "text": [
      "/home/carpiero/miniconda3/envs/ml_env/lib/python3.7/site-packages/ipykernel_launcher.py:1: SettingWithCopyWarning: \n",
      "A value is trying to be set on a copy of a slice from a DataFrame.\n",
      "Try using .loc[row_indexer,col_indexer] = value instead\n",
      "\n",
      "See the caveats in the documentation: https://pandas.pydata.org/pandas-docs/stable/user_guide/indexing.html#returning-a-view-versus-a-copy\n",
      "  \"\"\"Entry point for launching an IPython kernel.\n"
     ]
    }
   ],
   "source": [
    "df['results_pred'] = results_pred"
   ]
  },
  {
   "cell_type": "code",
   "execution_count": 682,
   "metadata": {},
   "outputs": [
    {
     "name": "stdout",
     "output_type": "stream",
     "text": [
      "(718, 9)\n",
      "(240, 9)\n",
      "(718, 1)\n",
      "(240, 2)\n"
     ]
    }
   ],
   "source": [
    "print(X_train.shape)\n",
    "print(X_test.shape)\n",
    "print(Y_train.shape)\n",
    "print(Y_test.shape)"
   ]
  },
  {
   "cell_type": "code",
   "execution_count": 683,
   "metadata": {},
   "outputs": [
    {
     "name": "stdout",
     "output_type": "stream",
     "text": [
      "Correct: 0.75\n",
      "Incorrect: 0.25\n"
     ]
    }
   ],
   "source": [
    "right=df.loc[df['class']== df['results_pred']].shape[0]/df.shape[0]\n",
    "wrong=df.loc[df['class']!= df['results_pred']].shape[0]/df.shape[0]\n",
    "\n",
    "print(f'Correct: {round(right,2)}')\n",
    "print(f'Incorrect: {round(wrong,2)}')"
   ]
  },
  {
   "cell_type": "code",
   "execution_count": 684,
   "metadata": {},
   "outputs": [],
   "source": [
    "Y_test = Y_test.drop('results_pred',axis=1)\n"
   ]
  },
  {
   "cell_type": "markdown",
   "metadata": {},
   "source": [
    "## Step 4: Improve Your Model\n",
    "\n",
    "Did your model achieve low loss (<0.1) and high accuracy (>0.95)? If not, try to improve your model.\n",
    "\n",
    "But how? There are so many things you can play with in Tensorflow and in the next challenge you'll learn about these things. But in this challenge, let's just do a few things to see if they will help.\n",
    "\n",
    "* Add more layers to your model. If the data are complex you need more layers. But don't use more layers than you need. If adding more layers does not improve the model performance you don't need additional layers.\n",
    "* Adjust the learning rate when you compile the model. This means you will create a custom `tf.keras.optimizers.Adam` instance where you specify the learning rate you want. Then pass the instance to `model.compile` as the optimizer.\n",
    "    * `tf.keras.optimizers.Adam` [reference](https://www.tensorflow.org/api_docs/python/tf/keras/optimizers/Adam).\n",
    "    * Don't worry if you don't understand what the learning rate does. You'll learn about it in the next challenge.\n",
    "* Adjust the number of epochs when you fit the training data to the model. Your model performance continues to improve as you train more epochs. But eventually it will reach the ceiling and the performance will stay the same."
   ]
  },
  {
   "cell_type": "code",
   "execution_count": 685,
   "metadata": {},
   "outputs": [],
   "source": [
    "# your code here\n",
    "\n",
    "model2 = tf.keras.Sequential([\n",
    "    tf.keras.layers.Flatten(),\n",
    "    tf.keras.layers.Dense(128,activation='relu'),\n",
    "    tf.keras.layers.Dense(128,activation='relu'),\n",
    "    tf.keras.layers.Dense(2,activation='softmax')\n",
    "])\n",
    "\n",
    "opt = tf.keras.optimizers.Adam(learning_rate=0.01)\n",
    "\n",
    "model2.compile(optimizer=opt, \n",
    "              loss=tf.keras.losses.SparseCategoricalCrossentropy(from_logits=True), \n",
    "              metrics=['accuracy'])\n",
    "\n"
   ]
  },
  {
   "cell_type": "code",
   "execution_count": 686,
   "metadata": {},
   "outputs": [
    {
     "name": "stdout",
     "output_type": "stream",
     "text": [
      "Epoch 1/30\n",
      "WARNING:tensorflow:Layer flatten_82 is casting an input tensor from dtype float64 to the layer's dtype of float32, which is new behavior in TensorFlow 2.  The layer has dtype float32 because its dtype defaults to floatx.\n",
      "\n",
      "If you intended to run this layer in float32, you can safely ignore this warning. If in doubt, this warning is likely only an issue if you are porting a TensorFlow 1.X model to TensorFlow 2.\n",
      "\n",
      "To change all layers to have dtype float64 by default, call `tf.keras.backend.set_floatx('float64')`. To change just this layer, pass dtype='float64' to the layer constructor. If you are the author of this layer, you can disable autocasting by passing autocast=False to the base Layer constructor.\n",
      "\n",
      "9/9 [==============================] - 0s 21ms/step - loss: 0.6601 - accuracy: 0.6058 - val_loss: 0.5962 - val_accuracy: 0.7167\n",
      "Epoch 2/30\n",
      "9/9 [==============================] - 0s 4ms/step - loss: 0.5835 - accuracy: 0.7270 - val_loss: 0.5523 - val_accuracy: 0.7542\n",
      "Epoch 3/30\n",
      "9/9 [==============================] - 0s 6ms/step - loss: 0.5310 - accuracy: 0.7799 - val_loss: 0.5344 - val_accuracy: 0.7792\n",
      "Epoch 4/30\n",
      "9/9 [==============================] - 0s 6ms/step - loss: 0.4918 - accuracy: 0.8245 - val_loss: 0.5521 - val_accuracy: 0.7458\n",
      "Epoch 5/30\n",
      "9/9 [==============================] - 0s 5ms/step - loss: 0.4700 - accuracy: 0.8454 - val_loss: 0.4897 - val_accuracy: 0.8208\n",
      "Epoch 6/30\n",
      "9/9 [==============================] - 0s 7ms/step - loss: 0.4469 - accuracy: 0.8705 - val_loss: 0.4743 - val_accuracy: 0.8333\n",
      "Epoch 7/30\n",
      "9/9 [==============================] - 0s 6ms/step - loss: 0.4335 - accuracy: 0.8886 - val_loss: 0.4628 - val_accuracy: 0.8625\n",
      "Epoch 8/30\n",
      "9/9 [==============================] - 0s 6ms/step - loss: 0.4137 - accuracy: 0.9025 - val_loss: 0.4434 - val_accuracy: 0.8667\n",
      "Epoch 9/30\n",
      "9/9 [==============================] - 0s 5ms/step - loss: 0.4139 - accuracy: 0.9053 - val_loss: 0.4753 - val_accuracy: 0.8250\n",
      "Epoch 10/30\n",
      "9/9 [==============================] - 0s 6ms/step - loss: 0.4071 - accuracy: 0.9081 - val_loss: 0.4337 - val_accuracy: 0.8875\n",
      "Epoch 11/30\n",
      "9/9 [==============================] - 0s 6ms/step - loss: 0.4029 - accuracy: 0.9053 - val_loss: 0.4666 - val_accuracy: 0.8417\n",
      "Epoch 12/30\n",
      "9/9 [==============================] - 0s 5ms/step - loss: 0.3901 - accuracy: 0.9262 - val_loss: 0.4200 - val_accuracy: 0.8875\n",
      "Epoch 13/30\n",
      "9/9 [==============================] - 0s 7ms/step - loss: 0.3789 - accuracy: 0.9387 - val_loss: 0.4298 - val_accuracy: 0.8708\n",
      "Epoch 14/30\n",
      "9/9 [==============================] - 0s 5ms/step - loss: 0.3674 - accuracy: 0.9499 - val_loss: 0.4106 - val_accuracy: 0.8958\n",
      "Epoch 15/30\n",
      "9/9 [==============================] - 0s 5ms/step - loss: 0.3707 - accuracy: 0.9429 - val_loss: 0.4089 - val_accuracy: 0.9042\n",
      "Epoch 16/30\n",
      "9/9 [==============================] - 0s 6ms/step - loss: 0.3592 - accuracy: 0.9596 - val_loss: 0.3919 - val_accuracy: 0.9250\n",
      "Epoch 17/30\n",
      "9/9 [==============================] - 0s 6ms/step - loss: 0.3610 - accuracy: 0.9568 - val_loss: 0.4060 - val_accuracy: 0.8958\n",
      "Epoch 18/30\n",
      "9/9 [==============================] - 0s 5ms/step - loss: 0.3571 - accuracy: 0.9582 - val_loss: 0.4054 - val_accuracy: 0.9042\n",
      "Epoch 19/30\n",
      "9/9 [==============================] - 0s 6ms/step - loss: 0.3546 - accuracy: 0.9596 - val_loss: 0.4138 - val_accuracy: 0.9000\n",
      "Epoch 20/30\n",
      "9/9 [==============================] - 0s 6ms/step - loss: 0.3607 - accuracy: 0.9540 - val_loss: 0.3998 - val_accuracy: 0.9000\n",
      "Epoch 21/30\n",
      "9/9 [==============================] - 0s 6ms/step - loss: 0.3576 - accuracy: 0.9540 - val_loss: 0.4054 - val_accuracy: 0.9042\n",
      "Epoch 22/30\n",
      "9/9 [==============================] - 0s 5ms/step - loss: 0.3571 - accuracy: 0.9540 - val_loss: 0.3738 - val_accuracy: 0.9417\n",
      "Epoch 23/30\n",
      "9/9 [==============================] - 0s 7ms/step - loss: 0.3531 - accuracy: 0.9596 - val_loss: 0.4170 - val_accuracy: 0.8917\n",
      "Epoch 24/30\n",
      "9/9 [==============================] - 0s 5ms/step - loss: 0.3413 - accuracy: 0.9708 - val_loss: 0.3900 - val_accuracy: 0.9167\n",
      "Epoch 25/30\n",
      "9/9 [==============================] - 0s 6ms/step - loss: 0.3423 - accuracy: 0.9735 - val_loss: 0.3573 - val_accuracy: 0.9625\n",
      "Epoch 26/30\n",
      "9/9 [==============================] - 0s 6ms/step - loss: 0.3293 - accuracy: 0.9833 - val_loss: 0.3583 - val_accuracy: 0.9500\n",
      "Epoch 27/30\n",
      "9/9 [==============================] - 0s 5ms/step - loss: 0.3255 - accuracy: 0.9903 - val_loss: 0.3431 - val_accuracy: 0.9792\n",
      "Epoch 28/30\n",
      "9/9 [==============================] - 0s 6ms/step - loss: 0.3220 - accuracy: 0.9930 - val_loss: 0.3583 - val_accuracy: 0.9500\n",
      "Epoch 29/30\n",
      "9/9 [==============================] - 0s 5ms/step - loss: 0.3263 - accuracy: 0.9875 - val_loss: 0.3465 - val_accuracy: 0.9667\n",
      "Epoch 30/30\n",
      "9/9 [==============================] - 0s 7ms/step - loss: 0.3205 - accuracy: 0.9916 - val_loss: 0.3337 - val_accuracy: 0.9792\n"
     ]
    }
   ],
   "source": [
    "history = model2.fit(X_train, \n",
    "                    Y_train, \n",
    "                    batch_size=80, \n",
    "                    epochs=30, \n",
    "                    validation_data=(X_test, Y_test))"
   ]
  },
  {
   "cell_type": "code",
   "execution_count": 687,
   "metadata": {},
   "outputs": [
    {
     "name": "stdout",
     "output_type": "stream",
     "text": [
      "8/8 [==============================] - 0s 2ms/step - loss: 0.3337 - accuracy: 0.9792\n",
      "0.9791666865348816 0.33374544978141785\n"
     ]
    }
   ],
   "source": [
    "test_loss, test_accuracy = model2.evaluate(X_test, Y_test)\n",
    "print(test_accuracy, test_loss)"
   ]
  },
  {
   "cell_type": "code",
   "execution_count": 688,
   "metadata": {},
   "outputs": [],
   "source": [
    "def plot_training(history, metrics: list = ('loss',), figsize: tuple = (12, 5)):\n",
    "    \"\"\"\n",
    "    plots training selected metrics for every batch\n",
    "    \"\"\"\n",
    "    epochs = range(1, len(history.history[metrics[0]]) + 1)\n",
    "\n",
    "    fig, ax_arr = plt.subplots(1, len(metrics), figsize=figsize)\n",
    "\n",
    "    if not isinstance(ax_arr, np.ndarray):\n",
    "        ax_arr = np.array(ax_arr).reshape(1, )\n",
    "\n",
    "    for i, metric in enumerate(metrics):\n",
    "        ax_arr[i].plot(epochs, history.history[metric], color='k', linestyle='solid', label=metric, linewidth=2)\n",
    "        ax_arr[i].plot(epochs, history.history[f\"val_{metric}\"], color='r', linestyle='dotted',\n",
    "                       label=f'validation {metric}')\n",
    "        ax_arr[i].set_ylabel(metric)\n",
    "        ax_arr[i].set_xlabel('epochs')\n",
    "        ax_arr[i].grid()\n",
    "        ax_arr[i].legend()\n",
    "    plt.show()"
   ]
  },
  {
   "cell_type": "code",
   "execution_count": 689,
   "metadata": {},
   "outputs": [
    {
     "data": {
      "image/png": "[encoded data removed]",
      "text/plain": [
       "<Figure size 864x360 with 2 Axes>"
      ]
     },
     "metadata": {
      "needs_background": "light"
     },
     "output_type": "display_data"
    }
   ],
   "source": [
    "plot_training(history, metrics=['loss', 'accuracy'])"
   ]
  },
  {
   "cell_type": "code",
   "execution_count": 690,
   "metadata": {},
   "outputs": [
    {
     "name": "stdout",
     "output_type": "stream",
     "text": [
      "Model: \"sequential_81\"\n",
      "_________________________________________________________________\n",
      "Layer (type)                 Output Shape              Param #   \n",
      "=================================================================\n",
      "flatten_82 (Flatten)         (None, 9)                 0         \n",
      "_________________________________________________________________\n",
      "dense_250 (Dense)            (None, 128)               1280      \n",
      "_________________________________________________________________\n",
      "dense_251 (Dense)            (None, 128)               16512     \n",
      "_________________________________________________________________\n",
      "dense_252 (Dense)            (None, 2)                 258       \n",
      "=================================================================\n",
      "Total params: 18,050\n",
      "Trainable params: 18,050\n",
      "Non-trainable params: 0\n",
      "_________________________________________________________________\n"
     ]
    }
   ],
   "source": [
    "model2.summary()"
   ]
  },
  {
   "cell_type": "markdown",
   "metadata": {},
   "source": [
    "**Which approach(es) did you find helpful to improve your model performance?**"
   ]
  },
  {
   "cell_type": "code",
   "execution_count": null,
   "metadata": {},
   "outputs": [],
   "source": [
    "# your answer here\n",
    "\n",
    "# On one side the learning rate improve the results.\n",
    "\n",
    "# On the other hand the hyperparameters from .fit bach and epocs allowed to improve a lot the model\n"
   ]
  }
 ],
 "metadata": {
  "kernelspec": {
   "display_name": "Python [conda env:ml_env]",
   "language": "python",
   "name": "conda-env-ml_env-py"
  },
  "language_info": {
   "codemirror_mode": {
    "name": "ipython",
    "version": 3
   },
   "file_extension": ".py",
   "mimetype": "text/x-python",
   "name": "python",
   "nbconvert_exporter": "python",
   "pygments_lexer": "ipython3",
   "version": "3.7.7"
  }
 },
 "nbformat": 4,
 "nbformat_minor": 4
}
