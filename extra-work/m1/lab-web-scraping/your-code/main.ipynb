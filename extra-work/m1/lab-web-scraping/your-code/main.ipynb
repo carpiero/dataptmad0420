{
 "cells": [
  {
   "cell_type": "markdown",
   "metadata": {},
   "source": [
    "# Web Scraping Lab\n",
    "\n",
    "You will find in this notebook some scrapy exercises to practise your scraping skills.\n",
    "\n",
    "**Tips:**\n",
    "\n",
    "- Check the response status code for each request to ensure you have obtained the intended content.\n",
    "- Print the response text in each request to understand the kind of info you are getting and its format.\n",
    "- Check for patterns in the response text to extract the data/info requested in each question.\n",
    "- Visit the urls below and take a look at their source code through Chrome DevTools. You'll need to identify the html tags, special class names, etc used in the html content you are expected to extract.\n",
    "\n",
    "**Resources**:\n",
    "- [Requests library](http://docs.python-requests.org/en/master/#the-user-guide)\n",
    "- [Beautiful Soup Doc](https://www.crummy.com/software/BeautifulSoup/bs4/doc/)\n",
    "- [Urllib](https://docs.python.org/3/library/urllib.html#module-urllib)\n",
    "- [re lib](https://docs.python.org/3/library/re.html)\n",
    "- [lxml lib](https://lxml.de/)\n",
    "- [Scrapy](https://scrapy.org/)\n",
    "- [List of HTTP status codes](https://en.wikipedia.org/wiki/List_of_HTTP_status_codes)\n",
    "- [HTML basics](http://www.simplehtmlguide.com/cheatsheet.php)\n",
    "- [CSS basics](https://www.cssbasics.com/#page_start)"
   ]
  },
  {
   "cell_type": "markdown",
   "metadata": {},
   "source": [
    "#### Below are the libraries and modules you may need. `requests`,  `BeautifulSoup` and `pandas` are already imported for you. If you prefer to use additional libraries feel free to do it."
   ]
  },
  {
   "cell_type": "code",
   "execution_count": 3,
   "metadata": {},
   "outputs": [],
   "source": [
    "import requests\n",
    "from bs4 import BeautifulSoup\n",
    "import pandas as pd\n",
    "import re"
   ]
  },
  {
   "cell_type": "markdown",
   "metadata": {},
   "source": [
    "#### Download, parse (using BeautifulSoup), and print the content from the Trending Developers page from GitHub:"
   ]
  },
  {
   "cell_type": "code",
   "execution_count": 21,
   "metadata": {},
   "outputs": [],
   "source": [
    "# This is the url you will scrape in this exercise\n",
    "url = 'https://github.com/trending/developers'"
   ]
  },
  {
   "cell_type": "code",
   "execution_count": 30,
   "metadata": {},
   "outputs": [
    {
     "data": {
      "text/plain": [
       "[<meta charset=\"utf-8\"/>,\n",
       " <link href=\"https://github.githubassets.com\" rel=\"dns-prefetch\"/>,\n",
       " <link href=\"https://avatars0.githubusercontent.com\" rel=\"dns-prefetch\"/>,\n",
       " <link href=\"https://avatars1.githubusercontent.com\" rel=\"dns-prefetch\"/>,\n",
       " <link href=\"https://avatars2.githubusercontent.com\" rel=\"dns-prefetch\"/>,\n",
       " <link href=\"https://avatars3.githubusercontent.com\" rel=\"dns-prefetch\"/>,\n",
       " <link href=\"https://github-cloud.s3.amazonaws.com\" rel=\"dns-prefetch\"/>,\n",
       " <link href=\"https://user-images.githubusercontent.com/\" rel=\"dns-prefetch\"/>,\n",
       " <link crossorigin=\"anonymous\" href=\"https://github.githubassets.com/assets/frameworks-next-699624e4062c462162146d384a2e859d.css\" integrity=\"sha512-aZYk5AYsRiFiFG04Si6FnQoHFwAugnodzKJXgafKqPWsrgrjoWRsapCn//vFuWqjSzr72ucZfPq8/ZbduuSeQg==\" media=\"all\" rel=\"stylesheet\"/>,\n",
       " <link crossorigin=\"anonymous\" href=\"https://github.githubassets.com/assets/site-next-7dbb92872a8f95d6138b81f09e806b04.css\" integrity=\"sha512-fbuShyqPldYTi4HwnoBrBL+UFa6nmRKUtancCPQKkVSzDJJAEVWUqdT9xR8UVMogwLDL8BVvUsEjtJOgthj3Iw==\" media=\"all\" rel=\"stylesheet\"/>,\n",
       " <link crossorigin=\"anonymous\" href=\"https://github.githubassets.com/assets/github-next-ff87f38bcca67ba9bba976476626ff56.css\" integrity=\"sha512-/4fzi8yme6m7qXZHZib/VnRl51ncBRcxLZIQ6ipY5wX7pwSQWiqAe7jnXn6PwDvWsyGNPxDIAANrgWPHgxNb2A==\" media=\"all\" rel=\"stylesheet\"/>,\n",
       " <meta content=\"width=device-width\" name=\"viewport\"/>,\n",
       " <title>Trending  developers on GitHub today · GitHub</title>,\n",
       " <meta content=\"GitHub is where people build software. More than 50 million people use GitHub to discover, fork, and contribute to over 100 million projects.\" name=\"description\"/>,\n",
       " <link href=\"/opensearch.xml\" rel=\"search\" title=\"GitHub\" type=\"application/opensearchdescription+xml\"/>,\n",
       " <link href=\"https://github.com/fluidicon.png\" rel=\"fluid-icon\" title=\"GitHub\"/>,\n",
       " <meta content=\"1401488693436528\" property=\"fb:app_id\"/>,\n",
       " <meta content=\"app-id=1477376905\" name=\"apple-itunes-app\"/>,\n",
       " <meta content=\"https://github.com\" property=\"og:url\"/>,\n",
       " <meta content=\"GitHub\" property=\"og:site_name\"/>,\n",
       " <meta content=\"Build software better, together\" property=\"og:title\"/>,\n",
       " <meta content=\"GitHub is where people build software. More than 50 million people use GitHub to discover, fork, and contribute to over 100 million projects.\" property=\"og:description\"/>,\n",
       " <meta content=\"https://github.githubassets.com/images/modules/open_graph/github-logo.png\" property=\"og:image\"/>,\n",
       " <meta content=\"image/png\" property=\"og:image:type\"/>,\n",
       " <meta content=\"1200\" property=\"og:image:width\"/>,\n",
       " <meta content=\"1200\" property=\"og:image:height\"/>,\n",
       " <meta content=\"https://github.githubassets.com/images/modules/open_graph/github-mark.png\" property=\"og:image\"/>,\n",
       " <meta content=\"image/png\" property=\"og:image:type\"/>,\n",
       " <meta content=\"1200\" property=\"og:image:width\"/>,\n",
       " <meta content=\"620\" property=\"og:image:height\"/>,\n",
       " <meta content=\"https://github.githubassets.com/images/modules/open_graph/github-octocat.png\" property=\"og:image\"/>,\n",
       " <meta content=\"image/png\" property=\"og:image:type\"/>,\n",
       " <meta content=\"1200\" property=\"og:image:width\"/>,\n",
       " <meta content=\"620\" property=\"og:image:height\"/>,\n",
       " <meta content=\"github\" property=\"twitter:site\"/>,\n",
       " <meta content=\"13334762\" property=\"twitter:site:id\"/>,\n",
       " <meta content=\"github\" property=\"twitter:creator\"/>,\n",
       " <meta content=\"13334762\" property=\"twitter:creator:id\"/>,\n",
       " <meta content=\"summary_large_image\" property=\"twitter:card\"/>,\n",
       " <meta content=\"GitHub\" property=\"twitter:title\"/>,\n",
       " <meta content=\"GitHub is where people build software. More than 50 million people use GitHub to discover, fork, and contribute to over 100 million projects.\" property=\"twitter:description\"/>,\n",
       " <meta content=\"https://github.githubassets.com/images/modules/open_graph/github-logo.png\" property=\"twitter:image:src\"/>,\n",
       " <meta content=\"1200\" property=\"twitter:image:width\"/>,\n",
       " <meta content=\"1200\" property=\"twitter:image:height\"/>,\n",
       " <link href=\"https://github.githubassets.com/\" rel=\"assets\"/>,\n",
       " <meta content=\"4042:4393:18A43F8:236046A:5EF37673\" data-pjax-transient=\"true\" name=\"request-id\"/>,\n",
       " <meta content=\"6537912d5c6a396b58ccf3bf2ca8ab215999f322\" data-pjax-transient=\"true\" name=\"html-safe-nonce\"/>,\n",
       " <meta content=\"eyJyZWZlcnJlciI6IiIsInJlcXVlc3RfaWQiOiI0MDQyOjQzOTM6MThBNDNGODoyMzYwNDZBOjVFRjM3NjczIiwidmlzaXRvcl9pZCI6IjQ5MDczNjEzMjY4NDI3MzgyOTEiLCJyZWdpb25fZWRnZSI6ImFtcyIsInJlZ2lvbl9yZW5kZXIiOiJhbXMifQ==\" data-pjax-transient=\"true\" name=\"visitor-payload\"/>,\n",
       " <meta content=\"d18ea619c26c7302e18e89a8d6962869f155dac41b957fc79e2b1212edb80540\" data-pjax-transient=\"true\" name=\"visitor-hmac\"/>,\n",
       " <meta content=\"\" data-pjax-transient=\"true\" name=\"github-keyboard-shortcuts\"/>,\n",
       " <meta data-pjax-transient=\"\" name=\"selected-link\" value=\"trending_developers\"/>,\n",
       " <meta content=\"c1kuD-K2HIVF635lypcsWPoD4kilo5-jA_wBFyT4uMY\" name=\"google-site-verification\"/>,\n",
       " <meta content=\"KT5gs8h0wvaagLKAVWq8bbeNwnZZK1r1XQysX3xurLU\" name=\"google-site-verification\"/>,\n",
       " <meta content=\"ZzhVyEFwb7w3e0-uOTltm8Jsck2F5StVihD0exw2fsA\" name=\"google-site-verification\"/>,\n",
       " <meta content=\"GXs5KoUUkNCoaAZn7wPN-t01Pywp9M3sEjnt_3_ZWPc\" name=\"google-site-verification\"/>,\n",
       " <meta content=\"collector.githubapp.com\" name=\"octolytics-host\"/>,\n",
       " <meta content=\"github\" name=\"octolytics-app-id\"/>,\n",
       " <meta content=\"https://collector.githubapp.com/github-external/browser_event\" name=\"octolytics-event-url\"/>,\n",
       " <meta class=\"js-octo-ga-id\" content=\"\" name=\"octolytics-dimension-ga_id\"/>,\n",
       " <meta content=\"{}\" name=\"optimizely-datafile\"/>,\n",
       " <meta content=\"UA-3769691-2\" name=\"google-analytics\"/>,\n",
       " <meta class=\"js-ga-set\" content=\"Responsive\" data-pjax-transient=\"\" name=\"dimension10\"/>,\n",
       " <meta class=\"js-ga-set\" content=\"Logged Out\" name=\"dimension1\"/>,\n",
       " <meta content=\"github.com\" name=\"hostname\"/>,\n",
       " <meta content=\"\" name=\"user-login\"/>,\n",
       " <meta content=\"github.com\" name=\"expected-hostname\"/>,\n",
       " <meta content=\"MARKETPLACE_PENDING_INSTALLATIONS,PRIMER_NEXT\" name=\"enabled-features\"/>,\n",
       " <meta content=\"326ecd4818bb3a650e21dc49e54062a7\" http-equiv=\"x-pjax-version\"/>,\n",
       " <link crossorigin=\"anonymous\" href=\"https://github.githubassets.com/assets/site-next-7dbb92872a8f95d6138b81f09e806b04.css\" integrity=\"sha512-fbuShyqPldYTi4HwnoBrBL+UFa6nmRKUtancCPQKkVSzDJJAEVWUqdT9xR8UVMogwLDL8BVvUsEjtJOgthj3Iw==\" media=\"all\" rel=\"stylesheet\"/>,\n",
       " <link data-pjax-transient=\"\" href=\"https://github.com/trending/developers\" rel=\"canonical\"/>,\n",
       " <meta content=\"https://api.github.com/_private/browser/stats\" name=\"browser-stats-url\"/>,\n",
       " <meta content=\"https://api.github.com/_private/browser/errors\" name=\"browser-errors-url\"/>,\n",
       " <link color=\"#000000\" href=\"https://github.githubassets.com/pinned-octocat.svg\" rel=\"mask-icon\"/>,\n",
       " <link class=\"js-site-favicon\" href=\"https://github.githubassets.com/favicons/favicon.png\" rel=\"alternate icon\" type=\"image/png\"/>,\n",
       " <link class=\"js-site-favicon\" href=\"https://github.githubassets.com/favicons/favicon.svg\" rel=\"icon\" type=\"image/svg+xml\"/>,\n",
       " <meta content=\"#1e2327\" name=\"theme-color\"/>,\n",
       " <link crossorigin=\"use-credentials\" href=\"/manifest.json\" rel=\"manifest\"/>]"
      ]
     },
     "execution_count": 30,
     "metadata": {},
     "output_type": "execute_result"
    }
   ],
   "source": [
    "# your code here\n",
    "html = requests.get(url).content\n",
    "soup = BeautifulSoup(html, 'lxml')\n",
    "\n",
    "soup.head()\n"
   ]
  },
  {
   "cell_type": "markdown",
   "metadata": {},
   "source": [
    "#### Display the names of the trending developers retrieved in the previous step.\n",
    "\n",
    "Your output should be a Python list of developer names. Each name should not contain any html tag.\n",
    "\n",
    "**Instructions:**\n",
    "\n",
    "1. Find out the html tag and class names used for the developer names. You can achieve this using Chrome DevTools.\n",
    "\n",
    "1. Use BeautifulSoup to extract all the html elements that contain the developer names.\n",
    "\n",
    "1. Use string manipulation techniques to replace whitespaces and linebreaks (i.e. `\\n`) in the *text* of each html element. Use a list to store the clean names.\n",
    "\n",
    "1. Print the list of names.\n",
    "\n",
    "Your output should look like below:\n",
    "\n",
    "```\n",
    "['trimstray (@trimstray)',\n",
    " 'joewalnes (JoeWalnes)',\n",
    " 'charlax (Charles-AxelDein)',\n",
    " 'ForrestKnight (ForrestKnight)',\n",
    " 'revery-ui (revery-ui)',\n",
    " 'alibaba (Alibaba)',\n",
    " 'Microsoft (Microsoft)',\n",
    " 'github (GitHub)',\n",
    " 'facebook (Facebook)',\n",
    " 'boazsegev (Bo)',\n",
    " 'google (Google)',\n",
    " 'cloudfetch',\n",
    " 'sindresorhus (SindreSorhus)',\n",
    " 'tensorflow',\n",
    " 'apache (TheApacheSoftwareFoundation)',\n",
    " 'DevonCrawford (DevonCrawford)',\n",
    " 'ARMmbed (ArmMbed)',\n",
    " 'vuejs (vuejs)',\n",
    " 'fastai (fast.ai)',\n",
    " 'QiShaoXuan (Qi)',\n",
    " 'joelparkerhenderson (JoelParkerHenderson)',\n",
    " 'torvalds (LinusTorvalds)',\n",
    " 'CyC2018',\n",
    " 'komeiji-satori (神楽坂覚々)',\n",
    " 'script-8']\n",
    " ```"
   ]
  },
  {
   "cell_type": "code",
   "execution_count": 36,
   "metadata": {},
   "outputs": [
    {
     "data": {
      "text/plain": [
       "['VadimDemedes (vadimdemedes)',\n",
       " 'AlonZakai (kripken)',\n",
       " 'KentaroWada (wkentaro)',\n",
       " 'TianonGravi (tianon)',\n",
       " 'IainCollins (iaincollins)',\n",
       " 'HadleyWickham (hadley)',\n",
       " 'BjörnRabenstein (beorn7)',\n",
       " 'CalebPorzio (calebporzio)',\n",
       " 'JamesAgnew (jamesagnew)',\n",
       " 'WilliamCandillon (wcandillon)',\n",
       " 'ŁukaszMagiera (magik6k)',\n",
       " 'TaylorOtwell (taylorotwell)',\n",
       " 'IvanPaulovich (ivanpaulovich)',\n",
       " 'JohnRyan (johnpryan)',\n",
       " 'InesMontani (ines)',\n",
       " 'MislavMarohnić (mislav)',\n",
       " 'FilipSkokan (panva)',\n",
       " 'ArvidNorberg (arvidn)',\n",
       " 'RicoSuter (RicoSuter)',\n",
       " 'KentC.Dodds (kentcdodds)',\n",
       " 'PatrickHulce (patrickhulce)',\n",
       " 'PaulBeusterien (paulb777)',\n",
       " 'MinkoGechev (mgechev)',\n",
       " 'GregBergé (gregberge)',\n",
       " 'HanXiao (hanxiao)']"
      ]
     },
     "execution_count": 36,
     "metadata": {},
     "output_type": "execute_result"
    }
   ],
   "source": [
    "# your code here\n",
    "table = soup.find_all('div', {'class':'Box'})[1]\n",
    "rows = table.find_all(['h1','p'], {'class': ['h3 lh-condensed','f4 text-normal mb-1']})\n",
    "rows_parsed = [row.text for row in rows]\n",
    "rows_clean=[re.sub(r'\\s','',x)for x in rows_parsed]\n",
    "rows_clean_bracket=[ rows_clean[x] if x % 2 == 0 else '('+rows_clean[x]+')' for x in range(0, len(rows_clean))]\n",
    "row_split = 2\n",
    "rows_refactored = [rows_clean_bracket[x:x+row_split] for x in range(0, len(rows_clean_bracket), row_split)]\n",
    "\n",
    "rows_final=[' '.join(x) for x in rows_refactored]\n",
    "\n",
    "rows_final\n",
    "\n"
   ]
  },
  {
   "cell_type": "markdown",
   "metadata": {},
   "source": [
    "#### Display the trending Python repositories in GitHub.\n",
    "\n",
    "The steps to solve this problem is similar to the previous one except that you need to find out the repository names instead of developer names."
   ]
  },
  {
   "cell_type": "code",
   "execution_count": 99,
   "metadata": {},
   "outputs": [],
   "source": [
    "# This is the url you will scrape in this exercise\n",
    "url = 'https://github.com/trending/python?since=daily'"
   ]
  },
  {
   "cell_type": "code",
   "execution_count": 100,
   "metadata": {},
   "outputs": [
    {
     "data": {
      "text/plain": [
       "['schenkd/nginx-ui',\n",
       " 'vt-vl-lab/3d-photo-inpainting',\n",
       " 'keras-team/keras',\n",
       " 'google/jax',\n",
       " 'EdyJ/blender-to-unity-fbx-exporter',\n",
       " 'sqlmapproject/sqlmap',\n",
       " 'fighting41love/funNLP',\n",
       " 'minivision-ai/photo2cartoon',\n",
       " 'psf/black',\n",
       " 'opencv/open_model_zoo',\n",
       " 'python/typeshed',\n",
       " '2020PB/police-brutality',\n",
       " 'wbt5/real-url',\n",
       " 'Kr1s77/awesome-python-login-model',\n",
       " 'facebookresearch/moco',\n",
       " 'trailofbits/algo',\n",
       " 'jackzhenguo/python-small-examples',\n",
       " 'docker/compose',\n",
       " 'stellargraph/stellargraph',\n",
       " 'saltstack/salt',\n",
       " 'celery/celery',\n",
       " 'dbader/schedule',\n",
       " 'dxa4481/truffleHog',\n",
       " 'd2l-ai/d2l-en',\n",
       " 'python/cpython']"
      ]
     },
     "execution_count": 100,
     "metadata": {},
     "output_type": "execute_result"
    }
   ],
   "source": [
    "# your code here\n",
    "html = requests.get(url).content\n",
    "soup = BeautifulSoup(html, 'lxml')\n",
    "table = soup.find_all('div', {'class':'Box'})[1]\n",
    "rows = table.find_all('h1', {'class': ['h3 lh-condensed']})\n",
    "rows_parsed = [row.text for row in rows]\n",
    "rows_clean=[re.sub(r'\\s','',x)for x in rows_parsed]\n",
    "\n",
    "rows_clean\n",
    "\n"
   ]
  },
  {
   "cell_type": "markdown",
   "metadata": {},
   "source": [
    "#### Display all the image links from Walt Disney wikipedia page."
   ]
  },
  {
   "cell_type": "code",
   "execution_count": 18,
   "metadata": {},
   "outputs": [],
   "source": [
    "# This is the url you will scrape in this exercise\n",
    "url = 'https://en.wikipedia.org/wiki/Walt_Disney'"
   ]
  },
  {
   "cell_type": "code",
   "execution_count": 19,
   "metadata": {},
   "outputs": [
    {
     "data": {
      "text/plain": [
       "['/wiki/File:Walt_Disney_1946.JPG',\n",
       " '/wiki/File:Walt_Disney_1942_signature.svg',\n",
       " '/wiki/File:Walt_Disney_envelope_ca._1921.jpg',\n",
       " '/wiki/File:Trolley_Troubles_poster.jpg',\n",
       " '/wiki/File:Walt_Disney_and_his_cartoon_creation_%22Mickey_Mouse%22_-_National_Board_of_Review_Magazine.jpg',\n",
       " '/wiki/File:Steamboat-willie.jpg',\n",
       " '/wiki/File:Walt_Disney_1935.jpg',\n",
       " '/wiki/File:Walt_Disney_Snow_white_1937_trailer_screenshot_(13).jpg',\n",
       " '/wiki/File:Disney_drawing_goofy.jpg',\n",
       " '/wiki/File:DisneySchiphol1951.jpg',\n",
       " '/wiki/File:WaltDisneyplansDisneylandDec1954.jpg',\n",
       " '/wiki/File:Walt_disney_portrait_right.jpg',\n",
       " '/wiki/File:Walt_Disney_Grave.JPG',\n",
       " '/wiki/File:Roy_O._Disney_with_Company_at_Press_Conference.jpg',\n",
       " '/wiki/File:Disney_Display_Case.JPG',\n",
       " '/wiki/File:Disney1968.jpg',\n",
       " '/wiki/File:The_Walt_Disney_Company_Logo.svg',\n",
       " '/wiki/File:Animation_disc.svg',\n",
       " '/wiki/File:P_vip.svg',\n",
       " '/wiki/File:Magic_Kingdom_castle.jpg',\n",
       " '/wiki/File:Video-x-generic.svg',\n",
       " '/wiki/File:Flag_of_Los_Angeles_County,_California.svg',\n",
       " '/wiki/File:Blank_television_set.svg',\n",
       " '/wiki/File:Flag_of_the_United_States.svg']"
      ]
     },
     "execution_count": 19,
     "metadata": {},
     "output_type": "execute_result"
    }
   ],
   "source": [
    "# your code here\n",
    "html = requests.get(url).content\n",
    "soup = BeautifulSoup(html, 'lxml')\n",
    "table = soup.find_all('div', {'class':'mw-parser-output'})[0]\n",
    "rows = table.find_all(['a'], {'class': ['image']},{'href':re.compile('.jpg')})\n",
    "\n",
    "image=[ x['href'] for x in rows]\n",
    "\n",
    "image\n"
   ]
  },
  {
   "cell_type": "markdown",
   "metadata": {},
   "source": [
    "#### Retrieve an arbitary Wikipedia page of \"Python\" and create a list of links on that page."
   ]
  },
  {
   "cell_type": "code",
   "execution_count": 6,
   "metadata": {},
   "outputs": [],
   "source": [
    "# This is the url you will scrape in this exercise\n",
    "url ='https://en.wikipedia.org/wiki/Python' "
   ]
  },
  {
   "cell_type": "code",
   "execution_count": 9,
   "metadata": {},
   "outputs": [
    {
     "data": {
      "text/plain": [
       "['https://en.wiktionary.org/wiki/Python',\n",
       " 'https://en.wiktionary.org/wiki/python',\n",
       " '/wiki/Pythonidae',\n",
       " '/wiki/Python_(genus)',\n",
       " '/wiki/Python_(mythology)',\n",
       " '/wiki/Python_of_Aenus',\n",
       " '/wiki/Python_(painter)',\n",
       " '/wiki/Python_of_Byzantium',\n",
       " '/wiki/Python_of_Catana',\n",
       " '/wiki/Python_(film)',\n",
       " '/wiki/Pythons_2',\n",
       " '/wiki/Monty_Python',\n",
       " '/wiki/Python_(Monty)_Pictures',\n",
       " '/wiki/Python_(programming_language)',\n",
       " '/wiki/CPython',\n",
       " '/wiki/CMU_Common_Lisp',\n",
       " '/wiki/PERQ#PERQ_3',\n",
       " '/wiki/Python_(Busch_Gardens_Tampa_Bay)',\n",
       " '/wiki/Python_(Coney_Island,_Cincinnati,_Ohio)',\n",
       " '/wiki/Python_(Efteling)',\n",
       " '/wiki/Python_(automobile_maker)',\n",
       " '/wiki/Python_(Ford_prototype)',\n",
       " '/wiki/Colt_Python',\n",
       " '/wiki/Python_(missile)',\n",
       " '/wiki/Python_(nuclear_primary)',\n",
       " '/wiki/Python_Anghelo',\n",
       " '/wiki/PYTHON',\n",
       " '/wiki/Cython',\n",
       " '/wiki/Pyton',\n",
       " '/wiki/File:Disambig_gray.svg',\n",
       " '/wiki/Help:Disambiguation']"
      ]
     },
     "execution_count": 9,
     "metadata": {},
     "output_type": "execute_result"
    }
   ],
   "source": [
    "# your code here\n",
    "html = requests.get(url).content\n",
    "soup = BeautifulSoup(html, 'lxml')\n",
    "table = soup.find_all('div', {'class':'mw-parser-output'})[0]\n",
    "rows = table.find_all(['a'],{'href':re.compile('/wiki/')})\n",
    "\n",
    "image=[ x['href'] for x in rows]\n",
    "\n",
    "image\n"
   ]
  },
  {
   "cell_type": "markdown",
   "metadata": {},
   "source": [
    "#### Find the number of titles that have changed in the United States Code since its last release point."
   ]
  },
  {
   "cell_type": "code",
   "execution_count": 33,
   "metadata": {},
   "outputs": [],
   "source": [
    "# This is the url you will scrape in this exercise\n",
    "url = 'http://uscode.house.gov/download/download.shtml'\n"
   ]
  },
  {
   "cell_type": "code",
   "execution_count": 42,
   "metadata": {},
   "outputs": [
    {
     "data": {
      "text/plain": [
       "['Title5-GovernmentOrganizationandEmployees٭',\n",
       " 'Title8-AliensandNationality',\n",
       " 'Title10-ArmedForces٭',\n",
       " 'Title16-Conservation',\n",
       " 'Title19-CustomsDuties',\n",
       " 'Title36-PatrioticandNationalObservances,Ceremonies,andOrganizations٭',\n",
       " 'Title50-WarandNationalDefense']"
      ]
     },
     "execution_count": 42,
     "metadata": {},
     "output_type": "execute_result"
    }
   ],
   "source": [
    "# your code here\n",
    "html = requests.get(url).content\n",
    "soup = BeautifulSoup(html, 'lxml')\n",
    "table = soup.find_all('div', {'class':'uscitemlist'})[0]\n",
    "rows = table.find_all('div',{'class':'usctitlechanged'})\n",
    "rows_parsed = [row.text for row in rows]\n",
    "rows_clean=[re.sub(r'\\s','',x)for x in rows_parsed]\n",
    "\n",
    "rows_clean"
   ]
  },
  {
   "cell_type": "markdown",
   "metadata": {},
   "source": [
    "#### Find a Python list with the top ten FBI's Most Wanted names."
   ]
  },
  {
   "cell_type": "code",
   "execution_count": 24,
   "metadata": {},
   "outputs": [],
   "source": [
    "# This is the url you will scrape in this exercise\n",
    "url = 'https://www.fbi.gov/wanted/topten'"
   ]
  },
  {
   "cell_type": "code",
   "execution_count": 28,
   "metadata": {},
   "outputs": [
    {
     "data": {
      "text/plain": [
       "['YASERABDELSAID',\n",
       " 'ALEXISFLORES',\n",
       " 'EUGENEPALMER',\n",
       " 'SANTIAGOVILLALBAMEDEROS',\n",
       " 'RAFAELCARO-QUINTERO',\n",
       " 'ROBERTWILLIAMFISHER',\n",
       " 'BHADRESHKUMARCHETANBHAIPATEL',\n",
       " 'ALEJANDROROSALESCASTILLO',\n",
       " 'ARNOLDOJIMENEZ',\n",
       " 'JASONDEREKBROWN']"
      ]
     },
     "execution_count": 28,
     "metadata": {},
     "output_type": "execute_result"
    }
   ],
   "source": [
    "# your code here\n",
    "html = requests.get(url).content\n",
    "soup = BeautifulSoup(html, 'lxml')\n",
    "table = soup.find_all('div', {'class':'query-results pat-pager'})[0]\n",
    "rows = table.find_all('h3',{'class':'title'})\n",
    "rows_parsed = [row.text for row in rows]\n",
    "rows_clean=[re.sub(r'\\s','',x)for x in rows_parsed]\n",
    "\n",
    "\n",
    "rows_clean"
   ]
  },
  {
   "cell_type": "markdown",
   "metadata": {},
   "source": [
    "####  Display the 20 latest earthquakes info (date, time, latitude, longitude and region name) by the EMSC as a pandas dataframe."
   ]
  },
  {
   "cell_type": "code",
   "execution_count": 49,
   "metadata": {},
   "outputs": [],
   "source": [
    "# This is the url you will scrape in this exercise\n",
    "url = 'https://www.emsc-csem.org/Earthquake/'"
   ]
  },
  {
   "cell_type": "code",
   "execution_count": 105,
   "metadata": {},
   "outputs": [
    {
     "data": {
      "text/html": [
       "<div>\n",
       "<style scoped>\n",
       "    .dataframe tbody tr th:only-of-type {\n",
       "        vertical-align: middle;\n",
       "    }\n",
       "\n",
       "    .dataframe tbody tr th {\n",
       "        vertical-align: top;\n",
       "    }\n",
       "\n",
       "    .dataframe thead th {\n",
       "        text-align: right;\n",
       "    }\n",
       "</style>\n",
       "<table border=\"1\" class=\"dataframe\">\n",
       "  <thead>\n",
       "    <tr style=\"text-align: right;\">\n",
       "      <th></th>\n",
       "      <th>Date</th>\n",
       "      <th>Time</th>\n",
       "      <th>Latitude</th>\n",
       "      <th>Longitude</th>\n",
       "      <th>region name</th>\n",
       "    </tr>\n",
       "  </thead>\n",
       "  <tbody>\n",
       "    <tr>\n",
       "      <th>0</th>\n",
       "      <td>2020-06-25</td>\n",
       "      <td>10:17:10</td>\n",
       "      <td>36.44 N</td>\n",
       "      <td>117.97 W</td>\n",
       "      <td>CENTRALCALIFORNIA</td>\n",
       "    </tr>\n",
       "    <tr>\n",
       "      <th>1</th>\n",
       "      <td>2020-06-25</td>\n",
       "      <td>10:03:30</td>\n",
       "      <td>38.47 N</td>\n",
       "      <td>44.04 E</td>\n",
       "      <td>TURKEY-IRANBORDERREGION</td>\n",
       "    </tr>\n",
       "    <tr>\n",
       "      <th>2</th>\n",
       "      <td>2020-06-25</td>\n",
       "      <td>09:57:56</td>\n",
       "      <td>32.95 S</td>\n",
       "      <td>72.08 W</td>\n",
       "      <td>OFFSHOREVALPARAISO,CHILE</td>\n",
       "    </tr>\n",
       "    <tr>\n",
       "      <th>3</th>\n",
       "      <td>2020-06-25</td>\n",
       "      <td>09:50:34</td>\n",
       "      <td>5.82 N</td>\n",
       "      <td>126.54 E</td>\n",
       "      <td>MINDANAO,PHILIPPINES</td>\n",
       "    </tr>\n",
       "    <tr>\n",
       "      <th>4</th>\n",
       "      <td>2020-06-25</td>\n",
       "      <td>09:48:31</td>\n",
       "      <td>38.06 N</td>\n",
       "      <td>118.77 W</td>\n",
       "      <td>CENTRALCALIFORNIA</td>\n",
       "    </tr>\n",
       "    <tr>\n",
       "      <th>5</th>\n",
       "      <td>2020-06-25</td>\n",
       "      <td>09:43:34</td>\n",
       "      <td>36.47 N</td>\n",
       "      <td>117.96 W</td>\n",
       "      <td>CENTRALCALIFORNIA</td>\n",
       "    </tr>\n",
       "    <tr>\n",
       "      <th>6</th>\n",
       "      <td>2020-06-25</td>\n",
       "      <td>09:41:49</td>\n",
       "      <td>38.04 N</td>\n",
       "      <td>118.75 W</td>\n",
       "      <td>CENTRALCALIFORNIA</td>\n",
       "    </tr>\n",
       "    <tr>\n",
       "      <th>7</th>\n",
       "      <td>2020-06-25</td>\n",
       "      <td>09:38:01</td>\n",
       "      <td>36.47 N</td>\n",
       "      <td>117.98 W</td>\n",
       "      <td>CENTRALCALIFORNIA</td>\n",
       "    </tr>\n",
       "    <tr>\n",
       "      <th>8</th>\n",
       "      <td>2020-06-25</td>\n",
       "      <td>09:33:29</td>\n",
       "      <td>18.28 N</td>\n",
       "      <td>68.35 W</td>\n",
       "      <td>MONAPASSAGE,DOMINICANREPUBLIC</td>\n",
       "    </tr>\n",
       "    <tr>\n",
       "      <th>9</th>\n",
       "      <td>2020-06-25</td>\n",
       "      <td>09:24:26</td>\n",
       "      <td>52.28 N</td>\n",
       "      <td>171.65 W</td>\n",
       "      <td>FOXISLANDS,ALEUTIANISLANDS</td>\n",
       "    </tr>\n",
       "    <tr>\n",
       "      <th>10</th>\n",
       "      <td>2020-06-25</td>\n",
       "      <td>08:44:06</td>\n",
       "      <td>17.95 N</td>\n",
       "      <td>66.94 W</td>\n",
       "      <td>PUERTORICO</td>\n",
       "    </tr>\n",
       "    <tr>\n",
       "      <th>11</th>\n",
       "      <td>2020-06-25</td>\n",
       "      <td>08:37:18</td>\n",
       "      <td>19.69 N</td>\n",
       "      <td>71.26 W</td>\n",
       "      <td>DOMINICANREPUBLIC</td>\n",
       "    </tr>\n",
       "    <tr>\n",
       "      <th>12</th>\n",
       "      <td>2020-06-25</td>\n",
       "      <td>08:24:07</td>\n",
       "      <td>38.18 N</td>\n",
       "      <td>117.84 W</td>\n",
       "      <td>NEVADA</td>\n",
       "    </tr>\n",
       "    <tr>\n",
       "      <th>13</th>\n",
       "      <td>2020-06-25</td>\n",
       "      <td>08:18:30</td>\n",
       "      <td>36.44 N</td>\n",
       "      <td>117.97 W</td>\n",
       "      <td>CENTRALCALIFORNIA</td>\n",
       "    </tr>\n",
       "    <tr>\n",
       "      <th>14</th>\n",
       "      <td>2020-06-25</td>\n",
       "      <td>08:18:13</td>\n",
       "      <td>17.93 N</td>\n",
       "      <td>68.71 W</td>\n",
       "      <td>DOMINICANREPUBLICREGION</td>\n",
       "    </tr>\n",
       "    <tr>\n",
       "      <th>15</th>\n",
       "      <td>2020-06-25</td>\n",
       "      <td>08:17:27</td>\n",
       "      <td>40.07 N</td>\n",
       "      <td>23.75 E</td>\n",
       "      <td>GREECE</td>\n",
       "    </tr>\n",
       "    <tr>\n",
       "      <th>16</th>\n",
       "      <td>2020-06-25</td>\n",
       "      <td>08:08:21</td>\n",
       "      <td>20.46 S</td>\n",
       "      <td>69.00 W</td>\n",
       "      <td>TARAPACA,CHILE</td>\n",
       "    </tr>\n",
       "    <tr>\n",
       "      <th>17</th>\n",
       "      <td>2020-06-25</td>\n",
       "      <td>07:53:43</td>\n",
       "      <td>41.46 N</td>\n",
       "      <td>19.59 E</td>\n",
       "      <td>ALBANIA</td>\n",
       "    </tr>\n",
       "    <tr>\n",
       "      <th>18</th>\n",
       "      <td>2020-06-25</td>\n",
       "      <td>07:42:20</td>\n",
       "      <td>36.15 N</td>\n",
       "      <td>117.92 W</td>\n",
       "      <td>CENTRALCALIFORNIA</td>\n",
       "    </tr>\n",
       "    <tr>\n",
       "      <th>19</th>\n",
       "      <td>2020-06-25</td>\n",
       "      <td>07:42:12</td>\n",
       "      <td>21.75 S</td>\n",
       "      <td>68.80 W</td>\n",
       "      <td>ANTOFAGASTA,CHILE</td>\n",
       "    </tr>\n",
       "  </tbody>\n",
       "</table>\n",
       "</div>"
      ],
      "text/plain": [
       "         Date      Time Latitude Longitude                    region name\n",
       "0  2020-06-25  10:17:10  36.44 N  117.97 W              CENTRALCALIFORNIA\n",
       "1  2020-06-25  10:03:30  38.47 N   44.04 E        TURKEY-IRANBORDERREGION\n",
       "2  2020-06-25  09:57:56  32.95 S   72.08 W       OFFSHOREVALPARAISO,CHILE\n",
       "3  2020-06-25  09:50:34   5.82 N  126.54 E           MINDANAO,PHILIPPINES\n",
       "4  2020-06-25  09:48:31  38.06 N  118.77 W              CENTRALCALIFORNIA\n",
       "5  2020-06-25  09:43:34  36.47 N  117.96 W              CENTRALCALIFORNIA\n",
       "6  2020-06-25  09:41:49  38.04 N  118.75 W              CENTRALCALIFORNIA\n",
       "7  2020-06-25  09:38:01  36.47 N  117.98 W              CENTRALCALIFORNIA\n",
       "8  2020-06-25  09:33:29  18.28 N   68.35 W  MONAPASSAGE,DOMINICANREPUBLIC\n",
       "9  2020-06-25  09:24:26  52.28 N  171.65 W     FOXISLANDS,ALEUTIANISLANDS\n",
       "10 2020-06-25  08:44:06  17.95 N   66.94 W                     PUERTORICO\n",
       "11 2020-06-25  08:37:18  19.69 N   71.26 W              DOMINICANREPUBLIC\n",
       "12 2020-06-25  08:24:07  38.18 N  117.84 W                         NEVADA\n",
       "13 2020-06-25  08:18:30  36.44 N  117.97 W              CENTRALCALIFORNIA\n",
       "14 2020-06-25  08:18:13  17.93 N   68.71 W        DOMINICANREPUBLICREGION\n",
       "15 2020-06-25  08:17:27  40.07 N   23.75 E                         GREECE\n",
       "16 2020-06-25  08:08:21  20.46 S   69.00 W                 TARAPACA,CHILE\n",
       "17 2020-06-25  07:53:43  41.46 N   19.59 E                        ALBANIA\n",
       "18 2020-06-25  07:42:20  36.15 N  117.92 W              CENTRALCALIFORNIA\n",
       "19 2020-06-25  07:42:12  21.75 S   68.80 W              ANTOFAGASTA,CHILE"
      ]
     },
     "execution_count": 105,
     "metadata": {},
     "output_type": "execute_result"
    }
   ],
   "source": [
    "# your code here\n",
    "html = requests.get(url).content\n",
    "soup = BeautifulSoup(html, 'lxml')\n",
    "table = soup.find_all('tbody', {'id':'tbody'})[0]\n",
    "rows = table.find_all('td',{'class':['ligne1 normal','tabev6','tabev1','tabev2','tb_region']})\n",
    "rows_parsed = [row.text for row in rows]\n",
    "rows_clean=[re.sub(r'\\s','',x)for x in rows_parsed]\n",
    "row_split = 7\n",
    "rows_refactored = [rows_clean[x:x+row_split] for x in range(0, len(rows_clean), row_split)]\n",
    "\n",
    "df = pd.DataFrame(rows_refactored, columns=['date', 'latitude', 'latitude2', 'longitude', 'longitude2', 'out', 'region name'])\n",
    "\n",
    "# I only need 5 columns 1-date, 2-time, 3-latitude, 4-longitude and 5-region name.\n",
    "df = df[['date', 'latitude', 'latitude2', 'longitude', 'longitude2', 'region name']]\n",
    "df['Latitude']=df['latitude']+ ' '+df['latitude2']\n",
    "df['Longitude']=df['longitude']+ ' '+df['longitude2']\n",
    "df['date']=df['date'].str.replace(r'earthquake','').str.replace(r'\\.\\w*','')\n",
    "df['Date']=df['date'].apply(lambda x: x[:10])\n",
    "df['Date'] = pd.to_datetime(df['Date'],format='%Y-%m-%d')\n",
    "df['Time']=df['date'].apply(lambda x: x[10:18])\n",
    "df = df[['Date', 'Time','Latitude', 'Longitude', 'region name']]\n",
    "\n",
    "#only 20 results\n",
    "df.iloc[0:20]"
   ]
  },
  {
   "cell_type": "markdown",
   "metadata": {},
   "source": [
    "#### Count the number of tweets by a given Twitter account.\n",
    "Ask the user for the handle (@handle) of a twitter account. You will need to include a ***try/except block*** for account names not found. \n",
    "<br>***Hint:*** the program should count the number of tweets for any provided account."
   ]
  },
  {
   "cell_type": "code",
   "execution_count": null,
   "metadata": {},
   "outputs": [],
   "source": [
    "# This is the url you will scrape in this exercise \n",
    "# You will need to add the account credentials to this url\n",
    "url = 'https://twitter.com/'"
   ]
  },
  {
   "cell_type": "code",
   "execution_count": null,
   "metadata": {},
   "outputs": [],
   "source": [
    "# your code here"
   ]
  },
  {
   "cell_type": "markdown",
   "metadata": {},
   "source": [
    "#### Number of followers of a given twitter account\n",
    "Ask the user for the handle (@handle) of a twitter account. You will need to include a ***try/except block*** for account names not found. \n",
    "<br>***Hint:*** the program should count the followers for any provided account."
   ]
  },
  {
   "cell_type": "code",
   "execution_count": null,
   "metadata": {},
   "outputs": [],
   "source": [
    "# This is the url you will scrape in this exercise \n",
    "# You will need to add the account credentials to this url\n",
    "url = 'https://twitter.com/'"
   ]
  },
  {
   "cell_type": "code",
   "execution_count": null,
   "metadata": {},
   "outputs": [],
   "source": [
    "# your code here"
   ]
  },
  {
   "cell_type": "markdown",
   "metadata": {},
   "source": [
    "#### List all language names and number of related articles in the order they appear in wikipedia.org."
   ]
  },
  {
   "cell_type": "code",
   "execution_count": null,
   "metadata": {},
   "outputs": [],
   "source": [
    "# This is the url you will scrape in this exercise\n",
    "url = 'https://www.wikipedia.org/'"
   ]
  },
  {
   "cell_type": "code",
   "execution_count": null,
   "metadata": {},
   "outputs": [],
   "source": [
    "# your code here"
   ]
  },
  {
   "cell_type": "markdown",
   "metadata": {},
   "source": [
    "#### A list with the different kind of datasets available in data.gov.uk."
   ]
  },
  {
   "cell_type": "code",
   "execution_count": null,
   "metadata": {},
   "outputs": [],
   "source": [
    "# This is the url you will scrape in this exercise\n",
    "url = 'https://data.gov.uk/'"
   ]
  },
  {
   "cell_type": "code",
   "execution_count": null,
   "metadata": {},
   "outputs": [],
   "source": [
    "# your code here"
   ]
  },
  {
   "cell_type": "markdown",
   "metadata": {},
   "source": [
    "#### Display the top 10 languages by number of native speakers stored in a pandas dataframe."
   ]
  },
  {
   "cell_type": "code",
   "execution_count": null,
   "metadata": {},
   "outputs": [],
   "source": [
    "# This is the url you will scrape in this exercise\n",
    "url = 'https://en.wikipedia.org/wiki/List_of_languages_by_number_of_native_speakers'"
   ]
  },
  {
   "cell_type": "code",
   "execution_count": null,
   "metadata": {},
   "outputs": [],
   "source": [
    "# your code here"
   ]
  },
  {
   "cell_type": "markdown",
   "metadata": {},
   "source": [
    "## Bonus\n",
    "#### Scrape a certain number of tweets of a given Twitter account."
   ]
  },
  {
   "cell_type": "code",
   "execution_count": null,
   "metadata": {},
   "outputs": [],
   "source": [
    "# This is the url you will scrape in this exercise \n",
    "# You will need to add the account credentials to this url\n",
    "url = 'https://twitter.com/'"
   ]
  },
  {
   "cell_type": "code",
   "execution_count": null,
   "metadata": {},
   "outputs": [],
   "source": [
    "# your code here"
   ]
  },
  {
   "cell_type": "markdown",
   "metadata": {},
   "source": [
    "#### Display IMDB's top 250 data (movie name, initial release, director name and stars) as a pandas dataframe."
   ]
  },
  {
   "cell_type": "code",
   "execution_count": null,
   "metadata": {},
   "outputs": [],
   "source": [
    "# This is the url you will scrape in this exercise \n",
    "url = 'https://www.imdb.com/chart/top'"
   ]
  },
  {
   "cell_type": "code",
   "execution_count": null,
   "metadata": {},
   "outputs": [],
   "source": [
    "# your code here"
   ]
  },
  {
   "cell_type": "markdown",
   "metadata": {},
   "source": [
    "#### Display the movie name, year and a brief summary of the top 10 random movies (IMDB) as a pandas dataframe."
   ]
  },
  {
   "cell_type": "code",
   "execution_count": null,
   "metadata": {},
   "outputs": [],
   "source": [
    "#This is the url you will scrape in this exercise\n",
    "url = 'http://www.imdb.com/chart/top'"
   ]
  },
  {
   "cell_type": "code",
   "execution_count": null,
   "metadata": {},
   "outputs": [],
   "source": [
    "# your code here"
   ]
  },
  {
   "cell_type": "markdown",
   "metadata": {},
   "source": [
    "#### Find the live weather report (temperature, wind speed, description and weather) of a given city."
   ]
  },
  {
   "cell_type": "code",
   "execution_count": null,
   "metadata": {},
   "outputs": [],
   "source": [
    "#https://openweathermap.org/current\n",
    "city = input('Enter the city: ')\n",
    "url = 'http://api.openweathermap.org/data/2.5/weather?'+'q='+city+'&APPID=b35975e18dc93725acb092f7272cc6b8&units=metric'"
   ]
  },
  {
   "cell_type": "code",
   "execution_count": null,
   "metadata": {},
   "outputs": [],
   "source": [
    "# your code here"
   ]
  },
  {
   "cell_type": "markdown",
   "metadata": {},
   "source": [
    "#### Find the book name, price and stock availability as a pandas dataframe."
   ]
  },
  {
   "cell_type": "code",
   "execution_count": null,
   "metadata": {},
   "outputs": [],
   "source": [
    "# This is the url you will scrape in this exercise. \n",
    "# It is a fictional bookstore created to be scraped. \n",
    "url = 'http://books.toscrape.com/'"
   ]
  },
  {
   "cell_type": "code",
   "execution_count": null,
   "metadata": {},
   "outputs": [],
   "source": [
    "# your code here"
   ]
  }
 ],
 "metadata": {
  "kernelspec": {
   "display_name": "Python [conda env:iron]",
   "language": "python",
   "name": "conda-env-iron-py"
  },
  "language_info": {
   "codemirror_mode": {
    "name": "ipython",
    "version": 3
   },
   "file_extension": ".py",
   "mimetype": "text/x-python",
   "name": "python",
   "nbconvert_exporter": "python",
   "pygments_lexer": "ipython3",
   "version": "3.7.7"
  }
 },
 "nbformat": 4,
 "nbformat_minor": 4
}
